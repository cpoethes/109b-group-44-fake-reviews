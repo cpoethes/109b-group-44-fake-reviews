{
 "cells": [
  {
   "cell_type": "markdown",
   "metadata": {},
   "source": [
    "# Milestone 4: Leveraging Linguistic Insights to Unmask Fake Reviews"
   ]
  },
  {
   "cell_type": "markdown",
   "metadata": {},
   "source": [
    "## Overview and Methodological Rational for Model Approach"
   ]
  },
  {
   "cell_type": "markdown",
   "metadata": {},
   "source": [
    "In developing a model to detect fake reviews, one avenue we chose to explore was an approach that emphasizes statistical and qualitative linguistic features over deep learning-based natural language processing (NLP) transformers. This decision was based on several key considerations grounded in both practicality and literature on text analysis. In particular, M.L. Newman's 2003 paper \"Lying words: Predicting deception from linguistic styles\" identifies key linguistic cues that are often present in deceptive text. These cues include the use of fewer first-person pronouns, more negative emotion words, and fewer unique words.\n",
    "\n",
    "1. Interpretability and Simplicity: One primary advantage of using simpler linguistic and statistical measures (such as word counts, parts of speech frequencies, and sentiment scores) is their interpretability. Models based on these features are often easier to understand and audit compared to models based on deep learning architectures. Literature suggests that interpretability is crucial in applications where understanding the decision-making process of the model is as important as the accuracy of the predictions. This transparency is especially important in the context of fake review detection, where stakeholders may need to understand why a review was flagged as fake.\n",
    "\n",
    "2. Computational Efficiency: Models based on simpler statistical features are generally less computationally intensive compared to transformer-based models. This efficiency makes them more accessible for deployment in environments with limited computational resources. Futhermore, training time is considerably reduced, which is critical for rapid prototyping and model iteration.\n",
    "\n",
    "3. Focused Feature Engineering: The use of linguistic features like POS tagging, unique word counts, and sentiment analysis allows for targeted feature engineering based on theoretical and empirical research linking these aspects to deceptive text. For instance, studies have shown that deceptive text often contains fewer unique words and relies more heavily on nouns and adjectives to create a believable but vague narrative (Newman). Similarly, sentiment extremes have been identified as potential indicators of fake reviews, aiming to overly praise or unduly criticize a product or service."
   ]
  },
  {
   "cell_type": "markdown",
   "metadata": {},
   "source": [
    "## Preprocessing and Feature Engineering"
   ]
  },
  {
   "cell_type": "markdown",
   "metadata": {},
   "source": [
    "The preprocessing steps where taken care of in a previous milestone, where we cleaned the text data, removed stopwords, and tokenized the text. In this milestone, we focus on feature engineering to extract relevant statistical and  qualitative aspects of the text that are indicative of authenticity or deception. By focusing on elements such as sentiment analysis, unique word counts, and POS tagging, we align our methodology with literature findings that suggests these metrics can effectively distinguish genuine content from fake reviews.\n",
    "\n",
    "**Feature Justification:**\n",
    "- **Sentiment Analysis:** Sentiment analysis is a common feature used in fake review detection models. Fake reviews often exhibit extreme sentiment, either overly positive or negative, as a way to manipulate readers' perceptions. By calculating sentiment scores for each review, we can identify reviews with sentiment that deviates significantly from the norm.\n",
    "- **Unique Word Count:** Fake reviews often contain fewer unique words compared to genuine reviews. This is because deceptive text tends to be more repetitive and less detailed. By counting the number of unique words in each review, we can capture this characteristic.\n",
    "- **Parts of Speech (POS) Tagging:** POS tagging can provide insights into the syntactic structure of the text. Deceptive reviews may exhibit different POS patterns compared to genuine reviews. For example, fake reviews might contain more adjectives or nouns to create a positive or negative impression without providing substantive information. By analyzing the distribution of POS tags in the text, we can identify patterns that are indicative of deception."
   ]
  },
  {
   "cell_type": "markdown",
   "metadata": {},
   "source": [
    "## Modeling Strategy\n",
    "\n",
    "The choice to utilize machine learning models like AdaBoost, Random Forest, and Logistic Regression was motivated by their interpretability, ease of implementation, and ability to handle a mix of numerical and categorical features. These models are well-suited for the linguistic features we have engineered, as they can capture complex relationships between the features and the target variable (fake vs. genuine reviews).\n",
    "\n",
    "**Modeling with Selected Features:**\n",
    "- **AdaBoost:** AdaBoost is an ensemble method that combines multiple weak learners to create a strong classifier. It is particularly effective when dealing with text data and can handle both numerical and categorical features. By using AdaBoost, we aim to leverage the power of boosting to improve the model's performance.\n",
    "- **Random Forest:** Random Forest is an ensemble method that builds multiple decision trees and combines their predictions. It is robust to overfitting and can handle a mix of feature types. Random Forest is well-suited for our linguistic features as it can capture non-linear relationships between the features and the target variable.\n",
    "- **Logistic Regression:** Logistic Regression is a linear model that is widely used for binary classification tasks. It is interpretable and can provide insights into the importance of each feature. By using Logistic Regression, we aim to understand the contribution of each linguistic feature to the model's predictions."
   ]
  },
  {
   "cell_type": "markdown",
   "metadata": {},
   "source": [
    "## Modeling Pipeline\n",
    "\n",
    "The modeling pipeline involves several steps to prepare the data, engineer features, train the models, and evaluate their performance. The purpose is for easy reproducibility and scalability of the model development process. The process incorporates creating, fitting, and evaluating multiple machine learning models, using a structured pipeline approach to ensure systematic optimization and validation of model parameters. \n",
    "\n",
    "1. Pipeline Creation and Configuration: The `create_pipeline` function is essential for standardizing the modeling process. It takes an estimator (SKlearn machine learning model), a parameter grid for hyperparameter tuning, and a cross-validation strategy as inputs. TThe pipeline comprises of two main stages:\n",
    "- Preprocessing with MinMaxScaler: This stage normalizes all the feature values to a range between 0 and 1. Normalization is crucial as it ensures that all feature contribute equally to the model's learning, preventing single feature with a larger scale from dominating the learning process.\n",
    "- Hyperparameter Tuning with GridSearchCV: This component optimizes the model parameters using grid search, which systematically tests a range of user-specified parametr values to fund the combination that maximizes the model's performance, assessed via the ROC-AUC score. This ensures the robustness of the model by selecting the best parameters from a defined set.\n",
    "2. Pipeline Fitting: The `fit_pipeline` function is designed to fit the pipeline to the training data. It executed the preprocessing and parameter tuning defined in the pipeline configuration. The process includes printing the status of the fitting, which is critical for debugging and tracking the progress of the model training, especially in scenarios involving extensive computational work.\n",
    "3. Model Evaluation: Once the models are fitted, the `evaluate_models` function assesses their performance using cross-validation. This method provides a more robust estimate of model effectiveness by evaluating the model across multiple subsamples of the data. The evaluation metrics used are:\n",
    "- Accuracy: Measures the overall correctness of the model.\n",
    "- Precision: Assesses the model's accuracy in predicting positive labels.\n",
    "- Recall: Evaluates how well the model can identify all positive instances/\n",
    "- F1 Score: Provides a balance between precision and recall.\n",
    "\n",
    "After training, the models are evaluated using the previously mentgioned metrics, and a summary of the results is provided for comparison. The Random Forest model is selected as the best-performing model based on the ROC-AUC score, which is a robust metric for evaluating binary classification models."
   ]
  },
  {
   "cell_type": "code",
   "execution_count": 2,
   "metadata": {},
   "outputs": [
    {
     "name": "stderr",
     "output_type": "stream",
     "text": [
      "[nltk_data] Downloading package averaged_perceptron_tagger to\n",
      "[nltk_data]     /root/nltk_data...\n",
      "[nltk_data]   Package averaged_perceptron_tagger is already up-to-\n",
      "[nltk_data]       date!\n",
      "[nltk_data] Downloading package stopwords to /root/nltk_data...\n",
      "[nltk_data]   Package stopwords is already up-to-date!\n",
      "[nltk_data] Downloading package punkt to /root/nltk_data...\n",
      "[nltk_data]   Package punkt is already up-to-date!\n",
      "[nltk_data] Downloading package wordnet to /root/nltk_data...\n",
      "[nltk_data]   Package wordnet is already up-to-date!\n",
      "2024-04-24 19:59:57.601464: E tensorflow/compiler/xla/stream_executor/cuda/cuda_dnn.cc:9360] Unable to register cuDNN factory: Attempting to register factory for plugin cuDNN when one has already been registered\n",
      "2024-04-24 19:59:57.601575: E tensorflow/compiler/xla/stream_executor/cuda/cuda_fft.cc:609] Unable to register cuFFT factory: Attempting to register factory for plugin cuFFT when one has already been registered\n",
      "2024-04-24 19:59:57.601810: E tensorflow/compiler/xla/stream_executor/cuda/cuda_blas.cc:1537] Unable to register cuBLAS factory: Attempting to register factory for plugin cuBLAS when one has already been registered\n",
      "2024-04-24 19:59:57.633207: I tensorflow/core/platform/cpu_feature_guard.cc:183] This TensorFlow binary is optimized to use available CPU instructions in performance-critical operations.\n",
      "To enable the following instructions: SSE3 SSE4.1 SSE4.2 AVX, in other operations, rebuild TensorFlow with the appropriate compiler flags.\n"
     ]
    }
   ],
   "source": [
    "import matplotlib.pyplot as plt\n",
    "import nltk\n",
    "import numpy as np\n",
    "import pandas as pd\n",
    "import re\n",
    "import random\n",
    "import seaborn as sns\n",
    "from collections import Counter\n",
    "from sklearn.ensemble import AdaBoostClassifier, RandomForestClassifier\n",
    "from sklearn.linear_model import LogisticRegression\n",
    "from sklearn.metrics import (\n",
    "    accuracy_score,\n",
    "    f1_score,\n",
    "    make_scorer,\n",
    "    precision_score,\n",
    "    recall_score,\n",
    ")\n",
    "from sklearn.model_selection import (\n",
    "    GridSearchCV,\n",
    "    StratifiedKFold,\n",
    "    cross_validate,\n",
    "    train_test_split,\n",
    ")\n",
    "from sklearn.pipeline import Pipeline\n",
    "from sklearn.preprocessing import MinMaxScaler\n",
    "from sklearn.tree import DecisionTreeClassifier\n",
    "from textblob import TextBlob\n",
    "# spaCY\n",
    "import spacy\n",
    "from spacy.training import Example \n",
    "from spacy.pipeline.textcat_multilabel import DEFAULT_MULTI_TEXTCAT_MODEL \n",
    "\n",
    "nltk.download(\"averaged_perceptron_tagger\")\n",
    "nltk.download(\"stopwords\")\n",
    "nltk.download(\"punkt\")\n",
    "nltk.download('wordnet')\n",
    "\n",
    "from nltk.corpus import stopwords\n",
    "from nltk.tokenize import word_tokenize\n",
    "import os\n",
    "import seaborn as sns\n",
    "import matplotlib.pyplot as plt\n",
    "from sklearn.decomposition import PCA\n",
    "from sklearn.cluster import KMeans\n",
    "from sklearn.model_selection import train_test_split\n",
    "from collections import Counter\n",
    "import spacy\n",
    "\n",
    "\n",
    "from bs4 import BeautifulSoup\n",
    "from pandarallel import pandarallel\n",
    "from sklearn.base import BaseEstimator, TransformerMixin\n",
    "from sklearn.feature_extraction.text import CountVectorizer, TfidfVectorizer\n",
    "from sklearn.preprocessing import LabelEncoder, OneHotEncoder, StandardScaler\n",
    "from sklearn.metrics import accuracy_score\n",
    "\n",
    "import flair\n",
    "from textattack.augmentation import WordNetAugmenter\n",
    "\n",
    "import spacy\n",
    "import random\n",
    "from spacy.training import Example \n",
    "\n",
    "from spacy.pipeline.textcat_multilabel import DEFAULT_MULTI_TEXTCAT_MODEL \n",
    "from spacy.pipeline.textcat import DEFAULT_SINGLE_TEXTCAT_MODEL\n",
    "\n",
    "import copy\n",
    "import time\n",
    "from func_timeout import func_timeout, FunctionTimedOut\n",
    "import re\n",
    "\n",
    "from utils import *\n",
    "\n",
    "\n"
   ]
  },
  {
   "cell_type": "code",
   "execution_count": 8,
   "metadata": {},
   "outputs": [],
   "source": [
    "def load_data(filepath=\"./data/processed/processed.csv\"):\n",
    "    return pd.read_csv(filepath)"
   ]
  },
  {
   "cell_type": "code",
   "execution_count": 3,
   "metadata": {},
   "outputs": [],
   "source": [
    "def generate_sentiment_scores(df):\n",
    "    sentiments = df[\"text_\"].apply(lambda review: TextBlob(str(review)).sentiment)\n",
    "    df[\"sentiment_score\"], df[\"sentiment_subjectivity\"] = zip(*sentiments)\n",
    "    return df"
   ]
  },
  {
   "cell_type": "code",
   "execution_count": 4,
   "metadata": {},
   "outputs": [],
   "source": [
    "def visualize_sentiment_scores(df):\n",
    "    sns.histplot(df[\"sentiment_score\"], kde=True)\n",
    "    plt.title(\"Sentiment Score Distribution\")\n",
    "    plt.show()\n",
    "\n",
    "    sentiment_categories = df[\"sentiment_score\"].apply(\n",
    "        lambda score: \"Positive\" if score >= 0 else \"Negative\"\n",
    "    )\n",
    "    sns.countplot(x=sentiment_categories)\n",
    "    plt.title(\"Sentiment Score Distribution\")\n",
    "    plt.show()"
   ]
  },
  {
   "cell_type": "code",
   "execution_count": 5,
   "metadata": {},
   "outputs": [],
   "source": [
    "def count_negative_words(df):\n",
    "    df[\"neg_count\"] = df[\"text_\"].apply(\n",
    "        lambda review: sum(\n",
    "            TextBlob(word).sentiment.polarity < 0 for word in str(review).split()\n",
    "        )\n",
    "    )\n",
    "    return df"
   ]
  },
  {
   "cell_type": "code",
   "execution_count": 6,
   "metadata": {},
   "outputs": [],
   "source": [
    "def count_unique_words(df):\n",
    "    df[\"word_count\"] = df[\"text_\"].apply(lambda x: len(str(x).split()))\n",
    "    df = df[df[\"word_count\"] != 0].reset_index(drop=True)\n",
    "    df[\"unique_word_count\"] = df[\"text_\"].apply(lambda x: len(set(str(x).split())))\n",
    "    return df"
   ]
  },
  {
   "cell_type": "code",
   "execution_count": 7,
   "metadata": {},
   "outputs": [],
   "source": [
    "# pos tagging\n",
    "articles = [\"a\", \"an\", \"the\"]\n",
    "negations = [\n",
    "    \"not\",\n",
    "    \"no\",\n",
    "    \"never\",\n",
    "    \"none\",\n",
    "    \"nobody\",\n",
    "    \"nothing\",\n",
    "    \"neither\",\n",
    "    \"nowhere\",\n",
    "    \"nor\",\n",
    "]\n",
    "auxiliaries = [\n",
    "    \"be\",\n",
    "    \"have\",\n",
    "    \"do\",\n",
    "    \"will\",\n",
    "    \"would\",\n",
    "    \"shall\",\n",
    "    \"should\",\n",
    "    \"can\",\n",
    "    \"could\",\n",
    "    \"may\",\n",
    "    \"might\",\n",
    "    \"must\",\n",
    "]\n",
    "\n",
    "\n",
    "def count_pos(review):\n",
    "    filter = re.sub(\"[^\\w\\s]\", \"\", str(review))\n",
    "    review_lower = filter.lower()\n",
    "    review_split = review_lower.split()\n",
    "\n",
    "    unique_words = Counter(review_split)\n",
    "    sentence = \" \".join(unique_words.keys())\n",
    "\n",
    "    word_list = nltk.word_tokenize(sentence)\n",
    "\n",
    "    Art = sum(word in articles for word in word_list)\n",
    "    Nega = sum(word in negations for word in word_list)\n",
    "    Aux = sum(word in auxiliaries for word in word_list)\n",
    "\n",
    "    tagged = nltk.pos_tag(word_list)\n",
    "    counts = Counter(tag for word, tag in tagged)\n",
    "\n",
    "    nount_count = sum(counts[i] for i in counts.keys() if \"NN\" in i)\n",
    "    verb_count = sum(counts[i] for i in counts.keys() if \"VB\" in i)\n",
    "    adj_count = sum(counts[i] for i in counts.keys() if \"JJ\" in i)\n",
    "    adv_count = sum(counts[i] for i in counts.keys() if \"RB\" in i)\n",
    "    pro_count = sum(\n",
    "        counts[i]\n",
    "        for i in counts.keys()\n",
    "        if ((\"PRP\" in i) or (\"PRP$\" in i) or (\"WP\" in i) or (\"WP$\" in i))\n",
    "    )\n",
    "    pre_count = sum(counts[i] for i in counts.keys() if \"IN\" in i)\n",
    "    con_count = sum(counts[i] for i in counts.keys() if \"CC\" in i)\n",
    "\n",
    "    return [\n",
    "        nount_count,\n",
    "        verb_count,\n",
    "        adj_count,\n",
    "        adv_count,\n",
    "        pro_count,\n",
    "        pre_count,\n",
    "        con_count,\n",
    "        Art,\n",
    "        Nega,\n",
    "        Aux,\n",
    "    ]"
   ]
  },
  {
   "cell_type": "code",
   "execution_count": 8,
   "metadata": {},
   "outputs": [],
   "source": [
    "def calculate_authenticity(df):\n",
    "    df[\"authenticity\"] = (\n",
    "        df[\"pro_count\"] + df[\"unique_word_count\"] - df[\"neg_count\"]\n",
    "    ) / df[\"word_count\"]\n",
    "    return df"
   ]
  },
  {
   "cell_type": "code",
   "execution_count": 9,
   "metadata": {},
   "outputs": [],
   "source": [
    "def calculate_analytical_thinking(df):\n",
    "    df[\"analytical_thinking\"] = (\n",
    "        30\n",
    "        + df[[\"art_count\", \"pre_count\"]].sum(axis=1)\n",
    "        - df[[\"pro_count\", \"con_count\", \"adv_count\", \"neg_count\"]].sum(axis=1)\n",
    "    )\n",
    "    return df"
   ]
  },
  {
   "cell_type": "code",
   "execution_count": 11,
   "metadata": {},
   "outputs": [
    {
     "data": {
      "image/png": "[encoded data removed]",
      "text/plain": [
       "<Figure size 640x480 with 1 Axes>"
      ]
     },
     "metadata": {},
     "output_type": "display_data"
    },
    {
     "data": {
      "image/png": "[encoded data removed]",
      "text/plain": [
       "<Figure size 640x480 with 1 Axes>"
      ]
     },
     "metadata": {},
     "output_type": "display_data"
    }
   ],
   "source": [
    "df = load_data()\n",
    "df = generate_sentiment_scores(df)\n",
    "visualize_sentiment_scores(df)\n",
    "df = count_negative_words(df)\n",
    "df = count_unique_words(df)\n",
    "pos = [\n",
    "    \"noun_count\",\n",
    "    \"verb_count\",\n",
    "    \"adj_count\",\n",
    "    \"adv_count\",\n",
    "    \"pro_count\",\n",
    "    \"pre_count\",\n",
    "    \"con_count\",\n",
    "    \"art_count\",\n",
    "    \"neg_count\",\n",
    "    \"aux_count\",\n",
    "]\n",
    "df[pos] = (\n",
    "    pd.DataFrame(df[\"text_\"].apply(count_pos).tolist(), columns=pos)\n",
    "    .fillna(0)\n",
    "    .astype(int)\n",
    ")\n",
    "df = calculate_authenticity(df)\n",
    "df = calculate_analytical_thinking(df)"
   ]
  },
  {
   "cell_type": "code",
   "execution_count": 13,
   "metadata": {},
   "outputs": [],
   "source": [
    "def create_pipeline(estimator, param_grid, cv):\n",
    "    pipeline = Pipeline(\n",
    "        [\n",
    "            (\"preprocessing\", MinMaxScaler()),\n",
    "            (\n",
    "                \"classifier\",\n",
    "                GridSearchCV(\n",
    "                    estimator=estimator,\n",
    "                    param_grid=param_grid,\n",
    "                    scoring=\"roc_auc\",\n",
    "                    cv=cv,\n",
    "                    n_jobs=-1,\n",
    "                ),\n",
    "            ),\n",
    "        ]\n",
    "    )\n",
    "    return pipeline"
   ]
  },
  {
   "cell_type": "code",
   "execution_count": 14,
   "metadata": {},
   "outputs": [],
   "source": [
    "def fit_pipeline(pipeline, X_train, y_train):\n",
    "    print(\"Fitting grid search...\")\n",
    "    pipeline.fit(X_train, y_train)\n",
    "    print(\"Grid search fitted.\")\n",
    "    return pipeline"
   ]
  },
  {
   "cell_type": "code",
   "execution_count": 15,
   "metadata": {},
   "outputs": [],
   "source": [
    "def evaluate_models(models, X, y, folds):\n",
    "    scoring = {\n",
    "        \"accuracy\": make_scorer(accuracy_score),\n",
    "        \"precision\": make_scorer(precision_score),\n",
    "        \"recall\": make_scorer(recall_score),\n",
    "        \"f1_score\": make_scorer(f1_score),\n",
    "    }\n",
    "    scores = {\n",
    "        model_name: cross_validate(model, X, y, cv=folds, scoring=scoring)\n",
    "        for model_name, model in models.items()\n",
    "    }\n",
    "    models_scores_table = pd.DataFrame(\n",
    "        {\n",
    "            model_name: [\n",
    "                model_scores[\"test_accuracy\"].mean(),\n",
    "                model_scores[\"test_precision\"].mean(),\n",
    "                model_scores[\"test_recall\"].mean(),\n",
    "                model_scores[\"test_f1_score\"].mean(),\n",
    "            ]\n",
    "            for model_name, model_scores in scores.items()\n",
    "        },\n",
    "        index=[\"Accuracy\", \"Precision\", \"Recall\", \"F1 Score\"],\n",
    "    )\n",
    "    models_scores_table[\"Best Score\"] = models_scores_table.idxmax(axis=1)\n",
    "    return models_scores_table"
   ]
  },
  {
   "cell_type": "code",
   "execution_count": 16,
   "metadata": {},
   "outputs": [],
   "source": [
    "df_model = df[\n",
    "    [\n",
    "        \"rating\",\n",
    "        \"sentiment_score\",\n",
    "        \"sentiment_subjectivity\",\n",
    "        \"word_count\",\n",
    "        \"noun_count\",\n",
    "        \"adj_count\",\n",
    "        \"verb_count\",\n",
    "        \"adv_count\",\n",
    "        \"authenticity\",\n",
    "        \"analytical_thinking\",\n",
    "        \"score\",\n",
    "    ]\n",
    "]\n",
    "\n",
    "X = df_model\n",
    "y = df[\"label\"]\n",
    "\n",
    "X_train, X_test, y_train, y_test = train_test_split(\n",
    "    X, y, test_size=0.2, random_state=42\n",
    ")"
   ]
  },
  {
   "cell_type": "code",
   "execution_count": 17,
   "metadata": {},
   "outputs": [],
   "source": [
    "# Adaboost\n",
    "DTC = DecisionTreeClassifier(random_state=11, class_weight=\"balanced\", max_depth=None)\n",
    "ABC = AdaBoostClassifier(estimator=DTC)\n",
    "parameters = {\n",
    "    \"n_estimators\": [2, 3, 4, 5, 6, 7, 8, 9, 10, 11, 12, 20],\n",
    "    \"learning_rate\": [(0.97 + x / 100) for x in range(0, 8)],\n",
    "    \"algorithm\": [\"SAMME\"],\n",
    "}\n",
    "pipeline1 = create_pipeline(ABC, parameters, 5)\n",
    "pipeline1 = fit_pipeline(pipeline1, X_train, y_train)\n",
    "\n",
    "# RandomForest\n",
    "parameters = {\n",
    "    \"bootstrap\": [True],\n",
    "    \"max_depth\": [80, 90, 100, 110],\n",
    "    \"max_features\": [2, 3, 4, 5, 6],\n",
    "    \"min_samples_leaf\": [2, 3, 4],\n",
    "    \"min_samples_split\": [2, 5, 10],\n",
    "    \"n_estimators\": [100, 200, 300, 1000],\n",
    "}\n",
    "pipeline2 = create_pipeline(\n",
    "    RandomForestClassifier(random_state=42), parameters, StratifiedKFold(n_splits=2)\n",
    ")\n",
    "pipeline2 = fit_pipeline(pipeline2, X_train, y_train)\n",
    "\n",
    "# Logistic Regression\n",
    "parameters = {\n",
    "    \"C\": [10**i for i in range(-5, 5)],\n",
    "    \"class_weight\": [None, \"balanced\"],\n",
    "}\n",
    "pipeline3 = create_pipeline(\n",
    "    LogisticRegression(max_iter=1000), parameters, StratifiedKFold(n_splits=5)\n",
    ")\n",
    "pipeline3 = fit_pipeline(pipeline3, X_train, y_train)\n",
    "\n",
    "models = {\n",
    "    \"AdaBoost\": pipeline1,\n",
    "    \"Random Forest\": pipeline2,\n",
    "    \"Logistic Regression\": pipeline3,\n",
    "}\n",
    "\n",
    "models_scores_table = evaluate_models(models, X, y, 3)"
   ]
  },
  {
   "cell_type": "code",
   "execution_count": null,
   "metadata": {},
   "outputs": [],
   "source": []
  },
  {
   "cell_type": "code",
   "execution_count": 18,
   "metadata": {},
   "outputs": [
    {
     "data": {
      "text/html": [
       "<div>\n",
       "<style scoped>\n",
       "    .dataframe tbody tr th:only-of-type {\n",
       "        vertical-align: middle;\n",
       "    }\n",
       "\n",
       "    .dataframe tbody tr th {\n",
       "        vertical-align: top;\n",
       "    }\n",
       "\n",
       "    .dataframe thead th {\n",
       "        text-align: right;\n",
       "    }\n",
       "</style>\n",
       "<table border=\"1\" class=\"dataframe\">\n",
       "  <thead>\n",
       "    <tr style=\"text-align: right;\">\n",
       "      <th></th>\n",
       "      <th>AdaBoost</th>\n",
       "      <th>Random Forest</th>\n",
       "      <th>Logistic Regression</th>\n",
       "      <th>Best Score</th>\n",
       "    </tr>\n",
       "  </thead>\n",
       "  <tbody>\n",
       "    <tr>\n",
       "      <th>Accuracy</th>\n",
       "      <td>0.676173</td>\n",
       "      <td>0.729522</td>\n",
       "      <td>0.699546</td>\n",
       "      <td>Random Forest</td>\n",
       "    </tr>\n",
       "    <tr>\n",
       "      <th>Precision</th>\n",
       "      <td>0.674298</td>\n",
       "      <td>0.723076</td>\n",
       "      <td>0.697613</td>\n",
       "      <td>Random Forest</td>\n",
       "    </tr>\n",
       "    <tr>\n",
       "      <th>Recall</th>\n",
       "      <td>0.682827</td>\n",
       "      <td>0.745005</td>\n",
       "      <td>0.704740</td>\n",
       "      <td>Random Forest</td>\n",
       "    </tr>\n",
       "    <tr>\n",
       "      <th>F1 Score</th>\n",
       "      <td>0.678407</td>\n",
       "      <td>0.733713</td>\n",
       "      <td>0.701151</td>\n",
       "      <td>Random Forest</td>\n",
       "    </tr>\n",
       "  </tbody>\n",
       "</table>\n",
       "</div>"
      ],
      "text/plain": [
       "           AdaBoost  Random Forest  Logistic Regression     Best Score\n",
       "Accuracy   0.676173       0.729522             0.699546  Random Forest\n",
       "Precision  0.674298       0.723076             0.697613  Random Forest\n",
       "Recall     0.682827       0.745005             0.704740  Random Forest\n",
       "F1 Score   0.678407       0.733713             0.701151  Random Forest"
      ]
     },
     "execution_count": 18,
     "metadata": {},
     "output_type": "execute_result"
    }
   ],
   "source": [
    "models_scores_table"
   ]
  },
  {
   "cell_type": "markdown",
   "metadata": {},
   "source": [
    "## spaCy Model"
   ]
  },
  {
   "cell_type": "code",
   "execution_count": 3,
   "metadata": {},
   "outputs": [],
   "source": [
    "processed_df = load_data(\"../../data/processed/processed.csv\")\n",
    "product_categories = processed_df.columns[3:]"
   ]
  },
  {
   "cell_type": "code",
   "execution_count": 4,
   "metadata": {},
   "outputs": [],
   "source": [
    "X = processed_df.iloc[:,2:].values\n",
    "y = processed_df.label.values\n",
    "X_train, X_test, y_train, y_test = train_test_split(X, y, test_size=0.2)"
   ]
  },
  {
   "cell_type": "code",
   "execution_count": 23,
   "metadata": {},
   "outputs": [],
   "source": [
    "def generate_spacy_train_examples(X, y, prod_cat_index=-1):\n",
    "    train_examples = []\n",
    "    \n",
    "    if prod_cat_index == -1:\n",
    "        text_label_pairs = np.transpose(np.vstack((X[:, 0],y)))\n",
    "    else:\n",
    "        row_indices = np.where(X[:,prod_cat_index+1]==1)\n",
    "        text_label_pairs = np.transpose(np.vstack((X[row_indices, 0],y[row_indices])))\n",
    "    \n",
    "    for text_label in text_label_pairs:\n",
    "        label = {\"spam\": bool(text_label[1]), \"ham\": (not bool(text_label[1]))} \n",
    "        train_examples.append(Example.from_dict(nlp.make_doc(str(text_label[0])), {\"cats\": label}))\n",
    "    print(f\"Generating {len(train_examples)} train examples for the spaCy model...\")\n",
    "    return train_examples   \n"
   ]
  },
  {
   "cell_type": "code",
   "execution_count": 26,
   "metadata": {},
   "outputs": [
    {
     "name": "stdout",
     "output_type": "stream",
     "text": [
      "Generating 32345 train examples for the spaCy model...\n"
     ]
    }
   ],
   "source": [
    "nlp = spacy.load(\"en_core_web_sm\") \n",
    "\n",
    "config = { \n",
    "   \"threshold\": 0.5, \n",
    "   \"model\": DEFAULT_MULTI_TEXTCAT_MODEL \n",
    "} \n",
    "\n",
    "textcat = nlp.add_pipe(\"textcat\", config=config)\n",
    "textcat.add_label(\"spam\")\n",
    "textcat.add_label(\"ham\")\n",
    "\n",
    "train_examples = generate_spacy_train_examples(X_train, y_train)\n",
    "textcat.initialize(lambda: train_examples, nlp=nlp)"
   ]
  },
  {
   "cell_type": "code",
   "execution_count": 13,
   "metadata": {},
   "outputs": [],
   "source": [
    "epochs = 2\n",
    "with nlp.select_pipes(enable=\"textcat\"): \n",
    "  optimizer = nlp.resume_training() \n",
    "  for i in range(epochs): \n",
    "    random.shuffle(train_examples) \n",
    "    for example in train_examples: \n",
    "      nlp.update([example], sgd=optimizer) "
   ]
  },
  {
   "cell_type": "code",
   "execution_count": 14,
   "metadata": {},
   "outputs": [],
   "source": [
    "def find_model_accuracy(X, y, spacy_nlp, prod_cat_index=-1):\n",
    "    if prod_cat_index == -1:\n",
    "        X_test = X[:,0]\n",
    "        y_test = y\n",
    "    else:\n",
    "        row_indices = np.where(X[:,prod_cat_index+1]==1)\n",
    "        X_test = X[row_indices,0][0]\n",
    "        y_test = y[row_indices]\n",
    "    y_pred = []\n",
    "    for test_sample in X_test:\n",
    "        testdoc = spacy_nlp(str(test_sample))\n",
    "        y_pred.append(testdoc.cats['spam']>0.5)\n",
    "    y_pred = np.array(y_pred).astype(int)\n",
    "    acc = accuracy_score(y_test, y_pred)\n",
    "    return acc\n"
   ]
  },
  {
   "cell_type": "code",
   "execution_count": 18,
   "metadata": {},
   "outputs": [],
   "source": [
    "overal_accuracy = find_model_accuracy(X_test, y_test, nlp)\n",
    "accuracy_list = []\n",
    "for idx, category in enumerate(product_categories):\n",
    "    accuracy_list.append(find_model_accuracy(X_test, y_test, nlp, idx))"
   ]
  },
  {
   "cell_type": "code",
   "execution_count": 19,
   "metadata": {},
   "outputs": [
    {
     "name": "stdout",
     "output_type": "stream",
     "text": [
      "The test accuracy scores for each product category are:\n",
      "Books                         :\t0.88\n",
      "Clothing Shoes and Jewelry    :\t0.89\n",
      "Electronics                   :\t0.88\n",
      "Home and Kitchen              :\t0.91\n",
      "Kindle Store                  :\t0.91\n",
      "Movies and TV                 :\t0.90\n",
      "Pet Supplies                  :\t0.90\n",
      "Sports and Outdoors           :\t0.91\n",
      "Tools and Home Improvement    :\t0.92\n",
      "Toys and Games                :\t0.91\n",
      "\n",
      "The overal accuracy of the base model is 0.90.\n"
     ]
    }
   ],
   "source": [
    "print(\"The test accuracy scores for each product category are:\")\n",
    "for cat, acc in zip(product_categories, accuracy_list):\n",
    "    print(f\"{cat.replace('_',' ').replace('5','').ljust(30)}:\\t{acc:.2f}\")\n",
    "\n",
    "print(f\"\\nThe overal accuracy of the base model is {overal_accuracy:.2f}.\")\n"
   ]
  },
  {
   "cell_type": "markdown",
   "metadata": {},
   "source": [
    "### Further Experiments\n",
    "\n",
    "Given the varition of the test accuracy accross different product categories, we decided to consider training separate models, each specialized for a particular product category. The potential benefit would be having more specialized models that are trained specifically for the vocabulary set that is more prevalent\n",
    " for each product category.  On the other hand, we will be training each model with a vastly smaller (i.e around 10%) number of training samples  In an effort to accomodate for the smaller training set, we trained each model for a larger number of epochs."
   ]
  },
  {
   "cell_type": "code",
   "execution_count": 27,
   "metadata": {},
   "outputs": [
    {
     "name": "stdout",
     "output_type": "stream",
     "text": [
      "Generating 3474 train examples for the spaCy model...\n",
      "Generating 3097 train examples for the spaCy model...\n",
      "Generating 3159 train examples for the spaCy model...\n",
      "Generating 3226 train examples for the spaCy model...\n",
      "Generating 3769 train examples for the spaCy model...\n",
      "Generating 2878 train examples for the spaCy model...\n",
      "Generating 3416 train examples for the spaCy model...\n",
      "Generating 3181 train examples for the spaCy model...\n",
      "Generating 3101 train examples for the spaCy model...\n",
      "Generating 3044 train examples for the spaCy model...\n"
     ]
    }
   ],
   "source": [
    "train_examples_per_category = []\n",
    "for idx, category in enumerate(product_categories):\n",
    "    train_examples = generate_spacy_train_examples(X_train, y_train, idx)\n",
    "    train_examples_per_category.append(train_examples)"
   ]
  },
  {
   "cell_type": "markdown",
   "metadata": {},
   "source": [
    "**NOTE:** In order to save time, we will train the product-category-specific models for a subset of all the categories.  If we find that these models perform better than the generic model, we will train additional models for the remaining product types."
   ]
  },
  {
   "cell_type": "code",
   "execution_count": 28,
   "metadata": {},
   "outputs": [
    {
     "name": "stdout",
     "output_type": "stream",
     "text": [
      "The test accuracy scores when training a separate model for each product category are:\n",
      "\n",
      "Books                         :\t0.88\n",
      "Clothing Shoes and Jewelry    :\t0.82\n",
      "Electronics                   :\t0.83\n",
      "Home and Kitchen              :\t0.87\n"
     ]
    }
   ],
   "source": [
    "epochs = 4\n",
    "NUMBER_OF_CATEGORIES_TO_TRAIN = 4\n",
    "accuracy_list_per_category = []\n",
    "for idx, train_examples in enumerate(train_examples_per_category[0:NUMBER_OF_CATEGORIES_TO_TRAIN]):\n",
    "    textcat.initialize(lambda: train_examples, nlp=nlp)\n",
    "    with nlp.select_pipes(enable=\"textcat\"):\n",
    "        optimizer = nlp.resume_training() \n",
    "        for i in range(epochs):\n",
    "            random.shuffle(train_examples)\n",
    "            for example in train_examples: \n",
    "                nlp.update([example], sgd=optimizer)\n",
    "    \n",
    "    # Record test accuracy for each category\n",
    "    accuracy_list_per_category.append(find_model_accuracy(X_test, y_test, nlp, idx))\n",
    "\n",
    "print(\"The test accuracy scores when training a separate model for each product category are:\\n\")\n",
    "for cat, acc in zip(product_categories[:NUMBER_OF_CATEGORIES_TO_TRAIN], accuracy_list_per_category):\n",
    "    print(f\"{cat.replace('_',' ').replace('5','').ljust(30)}:\\t{acc:.2f}\")"
   ]
  },
  {
   "cell_type": "markdown",
   "metadata": {},
   "source": [
    "Given that the accuracies of the specific models are worse or similar to the accuracy of the overall model, we will not pursue this approach any further."
   ]
  },
  {
   "cell_type": "markdown",
   "metadata": {},
   "source": [
    "### An Adversarial Approach\n",
    "\n",
    "The original model performs well, but the difference in vocabulary sizes between real and computer-generated reviews gives us cause for concern. How much of the model's performance can be attributed to the limited vocabulary of the machine-generated reviews? Could the model be defeated by simply swapping out some words with thesaurus?\n",
    "\n",
    "To find out, we used the <a href=\"https://arxiv.org/abs/2005.05909\">TextAttack</a> module to augment the data by randomly replacing words with their synonyms using Wordnet."
   ]
  },
  {
   "cell_type": "markdown",
   "metadata": {},
   "source": [
    "**Read the data**"
   ]
  },
  {
   "cell_type": "code",
   "execution_count": 3,
   "metadata": {},
   "outputs": [],
   "source": [
    "try:\n",
    "    raw_df = pd.read_csv(\"data/raw/fake reviews dataset.csv\")\n",
    "    processed_df = pd.read_csv(\"data/processed/processed.csv\")\n",
    "except:\n",
    "    raw_df = pd.read_csv(\"../../data/raw/fake reviews dataset.csv\")\n",
    "    processed_df = pd.read_csv(\"../../data/processed/processed.csv\")   "
   ]
  },
  {
   "cell_type": "markdown",
   "metadata": {},
   "source": [
    "**Train and test the baseline model**"
   ]
  },
  {
   "cell_type": "code",
   "execution_count": 4,
   "metadata": {},
   "outputs": [
    {
     "name": "stdout",
     "output_type": "stream",
     "text": [
      "The accuracy of the base model is 0.90.\n"
     ]
    }
   ],
   "source": [
    "X = processed_df.text_.values\n",
    "y = processed_df.label.values\n",
    "X_train, X_test, y_train, y_test, ix_train, ix_test = train_test_split(X, y, np.arange(0, X.shape[0]), test_size=0.2)\n",
    "nlp = build_classifier(X_train, y_train)\n",
    "\n",
    "# Now run the classifier on the test data\n",
    "y_hat = classify(nlp, X_test)\n",
    "\n",
    "# Report the classification accuracy on the test data\n",
    "acc = accuracy_score(y_test, y_hat)\n",
    "print(f\"The accuracy of the base model is {acc:.2f}.\")\n",
    "\n"
   ]
  },
  {
   "cell_type": "code",
   "execution_count": 6,
   "metadata": {},
   "outputs": [],
   "source": [
    "raw_text = raw_df[\"text_\"].tolist()\n",
    "\n",
    "# This augments a corpus but implements caching so that we don't have to augment it repeatedly.\n",
    "def get_augmented(pct=0.2):\n",
    "    p = str(int(pct * 100))\n",
    "    p = re.sub(\"0*$\", \"\", p)\n",
    "    fn = \"../../data/df_p\" + p + \".csv\"\n",
    "    try:\n",
    "        df = pd.read_csv(fn, index_col=0)\n",
    "    except:\n",
    "        a = wordnet_augment(raw_text, pct)\n",
    "        df = pd.DataFrame([a]).transpose()\n",
    "        df.to_csv(fn)\n",
    "        df.columns = [\"0\"]\n",
    "    return(df[\"0\"]).tolist()\n",
    "\n",
    "\n",
    "def get_aug_error(p, model, name=\"base\"):\n",
    "    aug_test = copy.copy(X_test)\n",
    "    if(p > 0):\n",
    "        aug = pd.Series(get_augmented(p))\n",
    "        aug_in = aug[ix_test]\n",
    "        aug_test[y_test == 1] = list(map(clean_text, aug_in[y_test == 1].tolist()))\n",
    "    y_hat = []\n",
    "    for test_sample in aug_test:\n",
    "        testdoc = model(str(test_sample))\n",
    "        y_hat.append(testdoc.cats['spam'] > 0.5)\n",
    "    y_hat = np.array(y_hat).astype(int)\n",
    "    acc = accuracy_score(y_test, y_hat)\n",
    "    print(f\"The accuracy of the {name} model against a thesaurus attack substituting {p} words is {acc:.2f}.\")\n",
    "    return(acc)\n",
    "\n",
    "\n",
    "pcts = [0, 0.1, 0.2, 0.3, 0.4, 0.5]\n",
    "accuracies = list(map(lambda a: get_aug_error(a, nlp, \"base\"), pcts))"
   ]
  },
  {
   "cell_type": "code",
   "execution_count": 14,
   "metadata": {},
   "outputs": [
    {
     "data": {
      "text/plain": [
       "Text(0, 0.5, '% accuracy')"
      ]
     },
     "execution_count": 14,
     "metadata": {},
     "output_type": "execute_result"
    },
    {
     "data": {
      "image/png": "[encoded data removed]",
      "text/plain": [
       "<Figure size 640x480 with 1 Axes>"
      ]
     },
     "metadata": {},
     "output_type": "display_data"
    }
   ],
   "source": [
    "plt.plot(np.array(pcts) * 100, np.array(accuracies) * 100)\n",
    "plt.title(\"Base Model Accuracy vs. Synonym Substitution\")\n",
    "plt.xlabel('% machine-generated words replaced with synonyms')\n",
    "plt.ylabel('% accuracy')"
   ]
  },
  {
   "cell_type": "markdown",
   "metadata": {},
   "source": [
    "**A crushing defeat!**\n",
    "\n",
    "As it turns out, robotic spammers could evade our model by randomly swapping words for their synonyms. We need to harden the model against those sorts of attacks."
   ]
  },
  {
   "cell_type": "code",
   "execution_count": 7,
   "metadata": {},
   "outputs": [],
   "source": [
    "# The aim is to generate an augmented dataset that is representative of the sorts of tricks that spammers might try.\n",
    "# We will use the original dataset concatenated with a copy that has 40% of the words swapped with synonyms.\n",
    "# Note that we will be training the model with augmented data indicating that human-generated reviews with swapped-out words are not computer-generated!\n",
    "\n",
    "X_aug = pd.Series(list(map(clean_text, get_augmented(0.4))))\n",
    "\n",
    "nlp_aug = spacy.load(\"en_core_web_sm\") \n",
    "\n",
    "config = { \n",
    "   \"threshold\": 0.5, \n",
    "   \"model\": DEFAULT_MULTI_TEXTCAT_MODEL \n",
    "} \n",
    "\n",
    "textcat_aug = nlp_aug.add_pipe(\"textcat\", config=config) \n",
    "aug_train_examples = []\n",
    "for idx, text in enumerate(X_aug[ix_train]):\n",
    "    label = {\"spam\": bool(y_train[idx]), \"ham\": (not bool(y_train[idx]))} \n",
    "    aug_train_examples.append(Example.from_dict(nlp.make_doc(str(text)), {\"cats\": label}))\n",
    "\n",
    "for idx, text in enumerate(X_train):\n",
    "    label = {\"spam\": bool(y_train[idx]), \"ham\": (not bool(y_train[idx]))} \n",
    "    aug_train_examples.append(Example.from_dict(nlp.make_doc(str(text)), {\"cats\": label}))\n",
    "\n",
    "textcat_aug.add_label(\"spam\")\n",
    "textcat_aug.add_label(\"ham\")\n",
    "textcat_aug.initialize(lambda: aug_train_examples, nlp=nlp_aug)"
   ]
  },
  {
   "cell_type": "code",
   "execution_count": 8,
   "metadata": {},
   "outputs": [],
   "source": [
    "# Train a model with the augmented training data\n",
    "\n",
    "epochs = 4\n",
    "with nlp_aug.select_pipes(enable=\"textcat\"): \n",
    "  optimizer = nlp_aug.resume_training() \n",
    "  for i in range(epochs):\n",
    "    print(f\"epoch {i} of {epochs}\")\n",
    "    random.shuffle(aug_train_examples) \n",
    "    for example in aug_train_examples: \n",
    "      nlp_aug.update([example], sgd=optimizer) \n",
    "\n",
    "pcts = [0, 0.1, 0.2, 0.3, 0.4, 0.5]\n",
    "aug_accuracies = list(map(lambda a: get_aug_error(a, nlp_aug, \"wordnet_augmented_40pct\"), pcts))"
   ]
  },
  {
   "cell_type": "code",
   "execution_count": 12,
   "metadata": {},
   "outputs": [
    {
     "data": {
      "text/plain": [
       "Text(0, 0.5, '% accuracy')"
      ]
     },
     "execution_count": 12,
     "metadata": {},
     "output_type": "execute_result"
    },
    {
     "data": {
      "image/png": "[encoded data removed]",
      "text/plain": [
       "<Figure size 640x480 with 1 Axes>"
      ]
     },
     "metadata": {},
     "output_type": "display_data"
    }
   ],
   "source": [
    "plt.plot(np.array(pcts) * 100, np.array(aug_accuracies) * 100)\n",
    "plt.title(\"Augmented Model Accuracy vs. Synonym Substitution\")\n",
    "plt.xlabel('% machine-generated words replaced with synonyms')\n",
    "plt.ylabel('% accuracy')"
   ]
  },
  {
   "cell_type": "markdown",
   "metadata": {},
   "source": [
    "**Success**\n",
    "\n",
    "The model trained with augmented data managed to correctly classify a range of synonym-swapped, computer-generated reviews that it had never seen before. There was a performance hit when classifying reviews that had not been synonym-swapped, and the performance hit is statistically significant at a p=0.05 level using a chi-square test (I calculated $\\alpha=0.0391$ on one run), but it is small."
   ]
  },
  {
   "cell_type": "code",
   "execution_count": 9,
   "metadata": {},
   "outputs": [],
   "source": [
    "# Running this cell reloads utils.py\n",
    "# It is useful for debugging but otherwise has no effect\n",
    "\n",
    "import utils\n",
    "import importlib\n",
    "importlib.reload(utils)\n",
    "from utils import *"
   ]
  },
  {
   "cell_type": "markdown",
   "metadata": {},
   "source": [
    "### Attribution"
   ]
  },
  {
   "cell_type": "markdown",
   "metadata": {},
   "source": [
    "Connor: Feature generation \\\n",
    "Amir: Performance evaluation \\\n",
    "Geoffrey: Data augmentation \\\n",
    "Chris: Final edits"
   ]
  },
  {
   "cell_type": "code",
   "execution_count": null,
   "metadata": {},
   "outputs": [],
   "source": []
  }
 ],
 "metadata": {
  "kernelspec": {
   "display_name": "Python 3 (ipykernel)",
   "language": "python",
   "name": "python3"
  },
  "language_info": {
   "codemirror_mode": {
    "name": "ipython",
    "version": 3
   },
   "file_extension": ".py",
   "mimetype": "text/x-python",
   "name": "python",
   "nbconvert_exporter": "python",
   "pygments_lexer": "ipython3",
   "version": "3.10.12"
  }
 },
 "nbformat": 4,
 "nbformat_minor": 4
}
