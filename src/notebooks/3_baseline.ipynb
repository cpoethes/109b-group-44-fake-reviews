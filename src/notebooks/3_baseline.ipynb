{
 "cells": [
  {
   "cell_type": "markdown",
   "id": "7ae8b7e9",
   "metadata": {},
   "source": [
    "# Project Milestone 4 - Baseline Model, Pipeline Development and TF Meeting"
   ]
  },
  {
   "cell_type": "code",
   "execution_count": 1,
   "id": "2d80e5df",
   "metadata": {},
   "outputs": [
    {
     "name": "stderr",
     "output_type": "stream",
     "text": [
      "[nltk_data] Downloading package stopwords to /root/nltk_data...\n",
      "[nltk_data]   Package stopwords is already up-to-date!\n",
      "[nltk_data] Downloading package punkt to /root/nltk_data...\n",
      "[nltk_data]   Package punkt is already up-to-date!\n",
      "[nltk_data] Downloading package wordnet to /root/nltk_data...\n",
      "[nltk_data]   Package wordnet is already up-to-date!\n",
      "2024-04-24 16:38:40.638512: E tensorflow/compiler/xla/stream_executor/cuda/cuda_dnn.cc:9360] Unable to register cuDNN factory: Attempting to register factory for plugin cuDNN when one has already been registered\n",
      "2024-04-24 16:38:40.638672: E tensorflow/compiler/xla/stream_executor/cuda/cuda_fft.cc:609] Unable to register cuFFT factory: Attempting to register factory for plugin cuFFT when one has already been registered\n",
      "2024-04-24 16:38:40.638864: E tensorflow/compiler/xla/stream_executor/cuda/cuda_blas.cc:1537] Unable to register cuBLAS factory: Attempting to register factory for plugin cuBLAS when one has already been registered\n",
      "2024-04-24 16:38:40.671075: I tensorflow/core/platform/cpu_feature_guard.cc:183] This TensorFlow binary is optimized to use available CPU instructions in performance-critical operations.\n",
      "To enable the following instructions: SSE3 SSE4.1 SSE4.2 AVX, in other operations, rebuild TensorFlow with the appropriate compiler flags.\n"
     ]
    }
   ],
   "source": [
    "import nltk\n",
    "nltk.download(\"stopwords\")\n",
    "nltk.download(\"punkt\")\n",
    "nltk.download('wordnet')\n",
    "\n",
    "from nltk.corpus import stopwords\n",
    "from nltk.tokenize import word_tokenize\n",
    "import os\n",
    "import pandas as pd\n",
    "import numpy as np\n",
    "import seaborn as sns\n",
    "import matplotlib.pyplot as plt\n",
    "from sklearn.decomposition import PCA\n",
    "from sklearn.cluster import KMeans\n",
    "from sklearn.model_selection import train_test_split\n",
    "from collections import Counter\n",
    "import spacy\n",
    "\n",
    "\n",
    "from bs4 import BeautifulSoup\n",
    "from pandarallel import pandarallel\n",
    "from sklearn.base import BaseEstimator, TransformerMixin\n",
    "from sklearn.feature_extraction.text import CountVectorizer, TfidfVectorizer\n",
    "from sklearn.preprocessing import LabelEncoder, OneHotEncoder, StandardScaler\n",
    "from sklearn.metrics import accuracy_score\n",
    "\n",
    "import flair\n",
    "from textattack.augmentation import WordNetAugmenter\n",
    "\n",
    "import spacy\n",
    "import random\n",
    "from spacy.training import Example \n",
    "\n",
    "from spacy.pipeline.textcat_multilabel import DEFAULT_MULTI_TEXTCAT_MODEL \n",
    "from spacy.pipeline.textcat import DEFAULT_SINGLE_TEXTCAT_MODEL\n",
    "\n",
    "import copy\n",
    "import time\n",
    "from func_timeout import func_timeout, FunctionTimedOut\n",
    "import re\n",
    "\n",
    "from utils import *\n"
   ]
  },
  {
   "cell_type": "markdown",
   "id": "2a2b9775",
   "metadata": {},
   "source": [
    "**Read the data**"
   ]
  },
  {
   "cell_type": "code",
   "execution_count": 2,
   "id": "172f07e1",
   "metadata": {
    "scrolled": true
   },
   "outputs": [],
   "source": [
    "try:\n",
    "    raw_df = pd.read_csv(\"data/raw/fake reviews dataset.csv\")\n",
    "    processed_df = pd.read_csv(\"data/processed/processed.csv\")\n",
    "except:\n",
    "    raw_df = pd.read_csv(\"../../data/raw/fake reviews dataset.csv\")\n",
    "    processed_df = pd.read_csv(\"../../data/processed/processed.csv\")    "
   ]
  },
  {
   "cell_type": "markdown",
   "id": "b88e5c18",
   "metadata": {},
   "source": [
    "**Train and test the baseline model**"
   ]
  },
  {
   "cell_type": "code",
   "execution_count": 3,
   "id": "b94cd298",
   "metadata": {},
   "outputs": [],
   "source": [
    "X = processed_df.text_.values\n",
    "y = processed_df.label.values\n",
    "X_train, X_test, y_train, y_test, ix_train, ix_test = train_test_split(X, y, np.arange(0, X.shape[0]), test_size=0.2)"
   ]
  },
  {
   "cell_type": "code",
   "execution_count": 4,
   "id": "e34b1ea9",
   "metadata": {},
   "outputs": [],
   "source": [
    "nlp = build_classifier(X_train, y_train)"
   ]
  },
  {
   "cell_type": "code",
   "execution_count": 5,
   "id": "aee3835b",
   "metadata": {},
   "outputs": [],
   "source": [
    "# Now run the classifier on the test data\n",
    "y_hat = classify(nlp, X_test)"
   ]
  },
  {
   "cell_type": "code",
   "execution_count": 6,
   "id": "deb6b581",
   "metadata": {},
   "outputs": [
    {
     "name": "stdout",
     "output_type": "stream",
     "text": [
      "The accuracy of the base model is 0.90.\n"
     ]
    }
   ],
   "source": [
    "# Report the classification accuracy on the test data\n",
    "acc = accuracy_score(y_test, y_hat)\n",
    "print(f\"The accuracy of the base model is {acc:.2f}.\")\n"
   ]
  },
  {
   "cell_type": "code",
   "execution_count": 7,
   "id": "d9062961",
   "metadata": {},
   "outputs": [],
   "source": [
    "raw_text = raw_df[\"text_\"].tolist()"
   ]
  },
  {
   "cell_type": "code",
   "execution_count": 8,
   "id": "359622cd",
   "metadata": {},
   "outputs": [],
   "source": [
    "# This augments a corpus but implements caching so that we don't have to augment it repeatedly.\n",
    "def get_augmented(pct=0.2):\n",
    "    p = str(int(pct * 100))\n",
    "    p = re.sub(\"0*$\", \"\", p)\n",
    "    fn = \"../../data/df_p\" + p + \".csv\"\n",
    "    try:\n",
    "        df = pd.read_csv(fn, index_col=0)\n",
    "    except:\n",
    "        a = wordnet_augment(raw_text, pct)\n",
    "        df = pd.DataFrame([a]).transpose()\n",
    "        df.to_csv(fn)\n",
    "        df.columns = [\"0\"]\n",
    "    return(df[\"0\"]).tolist()"
   ]
  },
  {
   "cell_type": "code",
   "execution_count": 9,
   "id": "750d73ef",
   "metadata": {},
   "outputs": [],
   "source": [
    "def get_aug_error(p, model, name=\"base\"):\n",
    "    aug_test = copy.copy(X_test)\n",
    "    if(p > 0):\n",
    "        aug = pd.Series(get_augmented(p))\n",
    "        aug_in = aug[ix_test]\n",
    "        aug_test[y_test == 1] = list(map(clean_text, aug_in[y_test == 1].tolist()))\n",
    "    y_hat = []\n",
    "    for test_sample in aug_test:\n",
    "        testdoc = model(str(test_sample))\n",
    "        y_hat.append(testdoc.cats['spam'] > 0.5)\n",
    "    y_hat = np.array(y_hat).astype(int)\n",
    "    acc = accuracy_score(y_test, y_hat)\n",
    "    print(f\"The accuracy of the {name} model against a thesaurus attack substituting {p} words is {acc:.2f}.\")\n",
    "    return(acc)"
   ]
  },
  {
   "cell_type": "code",
   "execution_count": 10,
   "id": "ea51b2f5",
   "metadata": {},
   "outputs": [
    {
     "name": "stdout",
     "output_type": "stream",
     "text": [
      "The accuracy of the base model against a thesaurus attack substituting 0 words is 0.90.\n",
      "The accuracy of the base model against a thesaurus attack substituting 0.1 words is 0.80.\n",
      "The accuracy of the base model against a thesaurus attack substituting 0.2 words is 0.68.\n",
      "The accuracy of the base model against a thesaurus attack substituting 0.3 words is 0.57.\n",
      "The accuracy of the base model against a thesaurus attack substituting 0.4 words is 0.52.\n",
      "The accuracy of the base model against a thesaurus attack substituting 0.5 words is 0.49.\n"
     ]
    }
   ],
   "source": [
    "pcts = [0, 0.1, 0.2, 0.3, 0.4, 0.5]\n",
    "accuracies = list(map(lambda a: get_aug_error(a, nlp, \"base\"), pcts))"
   ]
  },
  {
   "cell_type": "code",
   "execution_count": 11,
   "id": "e3bb25b4",
   "metadata": {},
   "outputs": [
    {
     "data": {
      "text/plain": [
       "Text(0, 0.5, 'model accuracy')"
      ]
     },
     "execution_count": 11,
     "metadata": {},
     "output_type": "execute_result"
    },
    {
     "data": {
      "image/png": "[encoded data removed]",
      "text/plain": [
       "<Figure size 640x480 with 1 Axes>"
      ]
     },
     "metadata": {},
     "output_type": "display_data"
    }
   ],
   "source": [
    "plt.plot(pcts, accuracies)\n",
    "plt.title(\"Base model accuracy vs. word substitution rate\")\n",
    "plt.xlabel('word substitution rate')\n",
    "plt.ylabel('model accuracy')"
   ]
  },
  {
   "cell_type": "code",
   "execution_count": null,
   "id": "120c7122",
   "metadata": {},
   "outputs": [],
   "source": []
  },
  {
   "cell_type": "code",
   "execution_count": 12,
   "id": "1719983c",
   "metadata": {},
   "outputs": [],
   "source": [
    "X_aug = pd.Series(list(map(clean_text, get_augmented(0.4))))\n",
    "\n"
   ]
  },
  {
   "cell_type": "code",
   "execution_count": 13,
   "id": "7a77db34",
   "metadata": {},
   "outputs": [],
   "source": [
    "nlp_aug = spacy.load(\"en_core_web_sm\") \n",
    "\n",
    "config = { \n",
    "   \"threshold\": 0.5, \n",
    "   \"model\": DEFAULT_MULTI_TEXTCAT_MODEL \n",
    "} \n",
    "\n",
    "textcat_aug = nlp_aug.add_pipe(\"textcat\", config=config) \n",
    "aug_train_examples = []\n",
    "for idx, text in enumerate(X_aug[ix_train]):\n",
    "    label = {\"spam\": bool(y_train[idx]), \"ham\": (not bool(y_train[idx]))} \n",
    "    aug_train_examples.append(Example.from_dict(nlp.make_doc(str(text)), {\"cats\": label}))\n",
    "\n",
    "for idx, text in enumerate(X_train):\n",
    "    label = {\"spam\": bool(y_train[idx]), \"ham\": (not bool(y_train[idx]))} \n",
    "    aug_train_examples.append(Example.from_dict(nlp.make_doc(str(text)), {\"cats\": label}))\n",
    "\n",
    "textcat_aug.add_label(\"spam\")\n",
    "textcat_aug.add_label(\"ham\")\n",
    "textcat_aug.initialize(lambda: aug_train_examples, nlp=nlp_aug)\n",
    "\n"
   ]
  },
  {
   "cell_type": "code",
   "execution_count": null,
   "id": "e6883e74",
   "metadata": {},
   "outputs": [
    {
     "name": "stdout",
     "output_type": "stream",
     "text": [
      "epoch 0 of 4\n"
     ]
    }
   ],
   "source": [
    "epochs = 4\n",
    "with nlp_aug.select_pipes(enable=\"textcat\"): \n",
    "  optimizer = nlp_aug.resume_training() \n",
    "  for i in range(epochs):\n",
    "    print(f\"epoch {i} of {epochs}\")\n",
    "    random.shuffle(aug_train_examples) \n",
    "    for example in aug_train_examples: \n",
    "      nlp_aug.update([example], sgd=optimizer) "
   ]
  },
  {
   "cell_type": "code",
   "execution_count": null,
   "id": "6945ff0a",
   "metadata": {},
   "outputs": [],
   "source": [
    "pct = 0.1\n",
    "\n",
    "get_aug_error(pct, model=nlp_aug, name=\"wordnet_augmented_40pct\")"
   ]
  },
  {
   "cell_type": "code",
   "execution_count": null,
   "id": "cb76f601",
   "metadata": {},
   "outputs": [],
   "source": [
    "get_aug_error(0, model=nlp_aug, name=\"wordnet_augmented_40pct\")"
   ]
  },
  {
   "cell_type": "code",
   "execution_count": null,
   "id": "6ca2306b",
   "metadata": {},
   "outputs": [],
   "source": []
  },
  {
   "cell_type": "code",
   "execution_count": null,
   "id": "f8a4b899",
   "metadata": {},
   "outputs": [],
   "source": []
  },
  {
   "cell_type": "code",
   "execution_count": null,
   "id": "9cc43f0b",
   "metadata": {},
   "outputs": [],
   "source": []
  },
  {
   "cell_type": "code",
   "execution_count": null,
   "id": "fd16f278",
   "metadata": {},
   "outputs": [],
   "source": [
    "# Running this cell reloads utils.py\n",
    "# It is useful for debugging but otherwise has no effect\n",
    "import utils\n",
    "import importlib\n",
    "importlib.reload(utils)\n",
    "from utils import *"
   ]
  },
  {
   "cell_type": "code",
   "execution_count": null,
   "id": "f8721f8d",
   "metadata": {},
   "outputs": [],
   "source": []
  }
 ],
 "metadata": {
  "kernelspec": {
   "display_name": "Python 3 (ipykernel)",
   "language": "python",
   "name": "python3"
  },
  "language_info": {
   "codemirror_mode": {
    "name": "ipython",
    "version": 3
   },
   "file_extension": ".py",
   "mimetype": "text/x-python",
   "name": "python",
   "nbconvert_exporter": "python",
   "pygments_lexer": "ipython3",
   "version": "3.10.12"
  }
 },
 "nbformat": 4,
 "nbformat_minor": 5
}
