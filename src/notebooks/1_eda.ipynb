{
 "cells": [
  {
   "cell_type": "markdown",
   "id": "e8cce56d",
   "metadata": {},
   "source": [
    "# Project Milestone 3 - EDA"
   ]
  },
  {
   "cell_type": "markdown",
   "id": "bf17d121",
   "metadata": {},
   "source": [
    "Please submit a 2-3 page document (Word, PDF, ipynb) by Wednesday, April 10th 9:59pm including the items outlined below. Your 2 - 3 page submission should include:\n",
    "\n",
    "- Data Description: Provide any missing information from Milestone 2 based on the feedback you received from your TA. If your milestone 2 was complete and you didn’t miss anything, you can omit this point.\n",
    "\n",
    "- Summary of the Data: Provide the shape of the data, data types, and descriptive statistics such as mean, max, and dtypes. Additionally, provide a summary of the features of the data, including histograms, correlation plots, and clustering plots as appropriate. \n",
    "\n",
    "- Data Anaylsis: Identify patterns, trends, class imbalances, and outliers in the data. Additionally, explore the relationships between variables and identify any potential confounding variables that may impact the analysis.\n",
    "\n",
    "- Meaningful Insights: Based on your analysis of the data, provide meaningful insights. Meaningful insights are those that connect back to your problem and are relevant to your specific context. Any insights should be well-supported by the data, provide actionable recommendations, and have a brief justification for why or how it’s important to the project. \n",
    "\n",
    "- Clean and Labeled Visualization: Visualization is an important component of EDA and should be clean, labeled, and well-presented. You need to ensure that your visualizations are easy to understand and can be included in their final presentation slides or report. Anyone that reads your EDA should be able to understand what is depicted in the plots just by looking at them.\n",
    "\n",
    "- Summary of findings: Summarize your findings in a clear and concise manner. This can be achieved through the use of visualizations and captions that highlight the most important insights gained through the analysis.\n",
    "\n",
    "- (Revised) Project Question: Based on the insights gained through EDA, you should develop a clear project question that will guide your analysis. This question should be well-defined and specific to the problem at hand."
   ]
  },
  {
   "cell_type": "markdown",
   "id": "d2f09eae",
   "metadata": {},
   "source": [
    "In the previous Project Milestone 2, our team successfully acquired and prepared our dataset for subsequent analysis. The data was sourced from Kaggle, obtaining a collection of over forty thousand product reviews divided into Original Reviews(OR) and Computer-Generated Fake Reviews(GC). The data was then preprocessed to clean the text data, one-hot encode the category column, standardize the rating column, and label encode the label column.\n",
    "\n",
    "**shape**: The preprocessed data has 40432 rows and 13 columns. \n",
    "\n",
    "**data types**: The pandas dataframe has the column 'label' as integer, text_ as object, and remaining rating and category columns as float (0/1).\n",
    "\n",
    "**column description**:\n",
    "\n",
    "- rating: Represents the rating given to the product in the review.\n",
    "- label: Indicates whether the review is genuine (1) or counterfeit (0).\n",
    "- text_: Contains the actual text of the review provided by the user.\n",
    "- Books_5: Binary variable indicating if the product belongs to the \"Books\" category.\n",
    "- Clothing_Shoes_and_Jewelry_5: Binary variable for the Clothing, Shoes, and Jewelry category.\n",
    "- Electronics_5: Binary variable for the Electronics category.\n",
    "- Home_and_Kitchen_5: Binary variable for the Home and Kitchen category.\n",
    "- Kindle_Store_5: Binary variable for the Kindle Store category.\n",
    "- Movies_and_TV_5: Binary variable for the Movies and TV category.\n",
    "- Pet_Supplies_5: Binary variable for the Pet Supplies category.\n",
    "- Sports_and_Outdoors_5: Binary variable for the Sports and Outdoors category.\n",
    "- Tools_and_Home_Improvement_5: Binary variable for the Tools and Home Improvement category.\n",
    "- Toys_and_Games_5: Binary variable for the Toys and Games category.\n",
    "\n",
    "**descriptive statistics summary**:\n",
    "- **rating**: the summary shows a mean very close to zero, indicating 50/50 a roughly balanced distribution of positive and negative ratings in the dataset. Comparing maximum value of 0.6496 and minimum value of -2.8458, the most negative review seems more emotive/ passionate(?) than the most positive review. The 1.000 standard deviation shows the data points are clustered closely around the mean. The 25th percentile (first quartile) is at -0.224157, suggesting that a quarter of the reviews have ratings below this value. The median rating (50th percentile) is at 0.649651, suggesting that half of the reviews have ratings equal to or below this value. The 75th percentile (third quartile) is also at 0.649651, suggesting that a quarter of the reviews have ratings above this value.\n",
    "- **label**: the label values have a mean of exactly 0.5, suggesting an equal proportion of genuine and counterfeit reviews in the dataset.\n",
    "- **category binary columns Books/Clothing/Electronics/etc**: the mean values reflect the proportion of reviews belonging to each category i.e. values around 0.1 indicating that roughly 10% of the reviews are associated with the category.\n",
    "\n",
    "**word frequency analysis as suggested by Milestone 2 feedback**:\n",
    "\n",
    "Top 20 most common words in All reviews:\n",
    "1. great: 16420 times\n",
    "2. book: 15002 times\n",
    "3. good: 14200 times\n",
    "4. one: 13395 times\n",
    "5. love: 10805 times\n",
    "6. would: 10362 times\n",
    "7. well: 10279 times\n",
    "8. story: 9627 times\n",
    "9. like: 9428 times\n",
    "10. read: 8868 times\n",
    "11. little: 8144 times\n",
    "12. get: 6467 times\n",
    "13. recommend: 6179 times\n",
    "14. characters: 6151 times\n",
    "15. really: 6119 times\n",
    "16. use: 5923 times\n",
    "17. bought: 5736 times\n",
    "18. also: 5721 times\n",
    "19. movie: 5548 times\n",
    "20. im: 5269 times\n",
    "\n",
    "Top 20 most common words in Genuine Reviews:\n",
    "1. great: 10645 times\n",
    "2. book: 9783 times\n",
    "3. good: 9451 times\n",
    "4. love: 6863 times\n",
    "5. story: 6761 times\n",
    "6. one: 6585 times\n",
    "7. well: 6061 times\n",
    "8. would: 6037 times\n",
    "9. read: 5609 times\n",
    "10. little: 5318 times\n",
    "11. recommend: 4765 times\n",
    "12. characters: 4696 times\n",
    "13. like: 4184 times\n",
    "14. movie: 4096 times\n",
    "15. bought: 3981 times\n",
    "16. loves: 3639 times\n",
    "17. small: 3466 times\n",
    "18. also: 3361 times\n",
    "19. im: 3164 times\n",
    "20. nice: 3116 times\n",
    "\n",
    "Top 20 most common words in Fake Reviews:\n",
    "1. one: 6810 times\n",
    "2. great: 5775 times\n",
    "3. like: 5244 times\n",
    "4. book: 5219 times\n",
    "5. good: 4749 times\n",
    "6. would: 4325 times\n",
    "7. well: 4218 times\n",
    "8. love: 3942 times\n",
    "9. really: 3534 times\n",
    "10. get: 3525 times\n",
    "11. read: 3259 times\n",
    "12. use: 2978 times\n",
    "13. time: 2897 times\n",
    "14. story: 2866 times\n",
    "15. much: 2852 times\n",
    "16. little: 2826 times\n",
    "17. dont: 2482 times\n",
    "18. also: 2360 times\n",
    "19. first: 2162 times\n",
    "20. even: 2114 times\n",
    "\n",
    "Top 20 words that ONLY show up in Fake Reviews:\n",
    "1. catch: 95 times\n",
    "2. among: 82 times\n",
    "3. therefore: 61 times\n",
    "4. accept: 54 times\n",
    "5. extended: 54 times\n",
    "6. related: 53 times\n",
    "7. sd: 51 times\n",
    "8. closer: 50 times\n",
    "9. mile: 49 times\n",
    "10. saving: 48 times\n",
    "11. pics: 47 times\n",
    "12. factor: 46 times\n",
    "13. ultimately: 45 times\n",
    "14. zip: 45 times\n",
    "15. customers: 44 times\n",
    "16. regarding: 44 times\n",
    "17. spread: 44 times\n",
    "18. systems: 43 times\n",
    "19. co: 42 times\n",
    "20. trim: 42 times\n",
    "\n",
    "\n",
    "\n",
    "**histogram, correlation plot, and clustering plot**\n",
    "- Please see below for the corresponding plots\n",
    "- Histogram shows the most frequent rating is around 0.5 then frequency falls as rating decreases.\n",
    "\n",
    "\n",
    "**baseline model candidates**:\n",
    "\n",
    "- Topic Modeling: Apply topic modeling techniques such as Latent Dirichlet Allocation (LDA) to uncover latent topics within the review corpus. Genuine reviews might focus on specific product features or experiences, while counterfeit reviews may exhibit random or unrelated topics.\n",
    "\n",
    "- Named Entity Recognition: Identify named entities mentioned in the reviews, such as product names, brands, or locations. Genuine reviews may contain more accurate and relevant named entities compared to fake ones.\n",
    "\n",
    "- Sentiment Analysis: Analyze the sentiment of the reviews to identify patterns indicative of genuine or fake reviews. Genuine reviews may exhibit more authentic and varied sentiments compared to fabricated ones.\n",
    "\n",
    "- Lexical Analysis: Analyze lexical features such as vocabulary richness, sentence structure, and grammar usage to identify linguistic differences between genuine and fake reviews."
   ]
  },
  {
   "cell_type": "code",
   "execution_count": 1,
   "id": "6d65c258",
   "metadata": {},
   "outputs": [
    {
     "name": "stderr",
     "output_type": "stream",
     "text": [
      "[nltk_data] Error loading stopwords: <urlopen error [Errno -2] Name or\n",
      "[nltk_data]     service not known>\n",
      "[nltk_data] Error loading punkt: <urlopen error [Errno -2] Name or\n",
      "[nltk_data]     service not known>\n"
     ]
    },
    {
     "data": {
      "text/plain": [
       "False"
      ]
     },
     "execution_count": 1,
     "metadata": {},
     "output_type": "execute_result"
    }
   ],
   "source": [
    "import nltk\n",
    "from nltk.corpus import stopwords\n",
    "from nltk.tokenize import word_tokenize\n",
    "import os\n",
    "import pandas as pd\n",
    "import numpy as np\n",
    "import seaborn as sns\n",
    "import matplotlib.pyplot as plt\n",
    "from sklearn.decomposition import PCA\n",
    "from sklearn.cluster import KMeans\n",
    "from collections import Counter\n",
    "import spacy\n",
    "\n",
    "\n",
    "from bs4 import BeautifulSoup\n",
    "from pandarallel import pandarallel\n",
    "from sklearn.base import BaseEstimator, TransformerMixin\n",
    "from sklearn.feature_extraction.text import CountVectorizer, TfidfVectorizer\n",
    "from sklearn.preprocessing import LabelEncoder, OneHotEncoder, StandardScaler\n",
    "\n",
    "nltk.download(\"stopwords\")\n",
    "nltk.download(\"punkt\")"
   ]
  },
  {
   "cell_type": "code",
   "execution_count": 2,
   "id": "13da5134",
   "metadata": {
    "scrolled": true
   },
   "outputs": [],
   "source": [
    "df = pd.read_csv(\"../../data/processed/processed.csv\")"
   ]
  },
  {
   "cell_type": "code",
   "execution_count": 3,
   "id": "e92faa45",
   "metadata": {
    "scrolled": true
   },
   "outputs": [
    {
     "data": {
      "text/plain": [
       "(40432, 13)"
      ]
     },
     "execution_count": 3,
     "metadata": {},
     "output_type": "execute_result"
    }
   ],
   "source": [
    "df.shape"
   ]
  },
  {
   "cell_type": "code",
   "execution_count": 4,
   "id": "1a46629d",
   "metadata": {},
   "outputs": [
    {
     "name": "stdout",
     "output_type": "stream",
     "text": [
      "rating                          float64\n",
      "label                             int64\n",
      "text_                            object\n",
      "Books_5                         float64\n",
      "Clothing_Shoes_and_Jewelry_5    float64\n",
      "Electronics_5                   float64\n",
      "Home_and_Kitchen_5              float64\n",
      "Kindle_Store_5                  float64\n",
      "Movies_and_TV_5                 float64\n",
      "Pet_Supplies_5                  float64\n",
      "Sports_and_Outdoors_5           float64\n",
      "Tools_and_Home_Improvement_5    float64\n",
      "Toys_and_Games_5                float64\n",
      "dtype: object\n"
     ]
    }
   ],
   "source": [
    "print(df.dtypes)"
   ]
  },
  {
   "cell_type": "code",
   "execution_count": 5,
   "id": "27551047",
   "metadata": {
    "scrolled": true
   },
   "outputs": [
    {
     "data": {
      "text/html": [
       "<div>\n",
       "<style scoped>\n",
       "    .dataframe tbody tr th:only-of-type {\n",
       "        vertical-align: middle;\n",
       "    }\n",
       "\n",
       "    .dataframe tbody tr th {\n",
       "        vertical-align: top;\n",
       "    }\n",
       "\n",
       "    .dataframe thead th {\n",
       "        text-align: right;\n",
       "    }\n",
       "</style>\n",
       "<table border=\"1\" class=\"dataframe\">\n",
       "  <thead>\n",
       "    <tr style=\"text-align: right;\">\n",
       "      <th></th>\n",
       "      <th>rating</th>\n",
       "      <th>label</th>\n",
       "      <th>text_</th>\n",
       "      <th>Books_5</th>\n",
       "      <th>Clothing_Shoes_and_Jewelry_5</th>\n",
       "      <th>Electronics_5</th>\n",
       "      <th>Home_and_Kitchen_5</th>\n",
       "      <th>Kindle_Store_5</th>\n",
       "      <th>Movies_and_TV_5</th>\n",
       "      <th>Pet_Supplies_5</th>\n",
       "      <th>Sports_and_Outdoors_5</th>\n",
       "      <th>Tools_and_Home_Improvement_5</th>\n",
       "      <th>Toys_and_Games_5</th>\n",
       "    </tr>\n",
       "  </thead>\n",
       "  <tbody>\n",
       "    <tr>\n",
       "      <th>0</th>\n",
       "      <td>0.649651</td>\n",
       "      <td>1</td>\n",
       "      <td>love well made sturdy comfortable love itvery ...</td>\n",
       "      <td>0.0</td>\n",
       "      <td>0.0</td>\n",
       "      <td>0.0</td>\n",
       "      <td>1.0</td>\n",
       "      <td>0.0</td>\n",
       "      <td>0.0</td>\n",
       "      <td>0.0</td>\n",
       "      <td>0.0</td>\n",
       "      <td>0.0</td>\n",
       "      <td>0.0</td>\n",
       "    </tr>\n",
       "    <tr>\n",
       "      <th>1</th>\n",
       "      <td>0.649651</td>\n",
       "      <td>1</td>\n",
       "      <td>love great upgrade original ive mine couple years</td>\n",
       "      <td>0.0</td>\n",
       "      <td>0.0</td>\n",
       "      <td>0.0</td>\n",
       "      <td>1.0</td>\n",
       "      <td>0.0</td>\n",
       "      <td>0.0</td>\n",
       "      <td>0.0</td>\n",
       "      <td>0.0</td>\n",
       "      <td>0.0</td>\n",
       "      <td>0.0</td>\n",
       "    </tr>\n",
       "    <tr>\n",
       "      <th>2</th>\n",
       "      <td>0.649651</td>\n",
       "      <td>1</td>\n",
       "      <td>pillow saved back love look feel pillow</td>\n",
       "      <td>0.0</td>\n",
       "      <td>0.0</td>\n",
       "      <td>0.0</td>\n",
       "      <td>1.0</td>\n",
       "      <td>0.0</td>\n",
       "      <td>0.0</td>\n",
       "      <td>0.0</td>\n",
       "      <td>0.0</td>\n",
       "      <td>0.0</td>\n",
       "      <td>0.0</td>\n",
       "    </tr>\n",
       "  </tbody>\n",
       "</table>\n",
       "</div>"
      ],
      "text/plain": [
       "     rating  label                                              text_  \\\n",
       "0  0.649651      1  love well made sturdy comfortable love itvery ...   \n",
       "1  0.649651      1  love great upgrade original ive mine couple years   \n",
       "2  0.649651      1            pillow saved back love look feel pillow   \n",
       "\n",
       "   Books_5  Clothing_Shoes_and_Jewelry_5  Electronics_5  Home_and_Kitchen_5  \\\n",
       "0      0.0                           0.0            0.0                 1.0   \n",
       "1      0.0                           0.0            0.0                 1.0   \n",
       "2      0.0                           0.0            0.0                 1.0   \n",
       "\n",
       "   Kindle_Store_5  Movies_and_TV_5  Pet_Supplies_5  Sports_and_Outdoors_5  \\\n",
       "0             0.0              0.0             0.0                    0.0   \n",
       "1             0.0              0.0             0.0                    0.0   \n",
       "2             0.0              0.0             0.0                    0.0   \n",
       "\n",
       "   Tools_and_Home_Improvement_5  Toys_and_Games_5  \n",
       "0                           0.0               0.0  \n",
       "1                           0.0               0.0  \n",
       "2                           0.0               0.0  "
      ]
     },
     "execution_count": 5,
     "metadata": {},
     "output_type": "execute_result"
    }
   ],
   "source": [
    "df.head(3)"
   ]
  },
  {
   "cell_type": "code",
   "execution_count": 6,
   "id": "8facc1af",
   "metadata": {},
   "outputs": [
    {
     "data": {
      "text/html": [
       "<div>\n",
       "<style scoped>\n",
       "    .dataframe tbody tr th:only-of-type {\n",
       "        vertical-align: middle;\n",
       "    }\n",
       "\n",
       "    .dataframe tbody tr th {\n",
       "        vertical-align: top;\n",
       "    }\n",
       "\n",
       "    .dataframe thead th {\n",
       "        text-align: right;\n",
       "    }\n",
       "</style>\n",
       "<table border=\"1\" class=\"dataframe\">\n",
       "  <thead>\n",
       "    <tr style=\"text-align: right;\">\n",
       "      <th></th>\n",
       "      <th>rating</th>\n",
       "      <th>label</th>\n",
       "      <th>Books_5</th>\n",
       "      <th>Clothing_Shoes_and_Jewelry_5</th>\n",
       "      <th>Electronics_5</th>\n",
       "      <th>Home_and_Kitchen_5</th>\n",
       "      <th>Kindle_Store_5</th>\n",
       "      <th>Movies_and_TV_5</th>\n",
       "      <th>Pet_Supplies_5</th>\n",
       "      <th>Sports_and_Outdoors_5</th>\n",
       "      <th>Tools_and_Home_Improvement_5</th>\n",
       "      <th>Toys_and_Games_5</th>\n",
       "    </tr>\n",
       "  </thead>\n",
       "  <tbody>\n",
       "    <tr>\n",
       "      <th>count</th>\n",
       "      <td>4.043200e+04</td>\n",
       "      <td>40432.000000</td>\n",
       "      <td>40432.000000</td>\n",
       "      <td>40432.000000</td>\n",
       "      <td>40432.000000</td>\n",
       "      <td>40432.000000</td>\n",
       "      <td>40432.000000</td>\n",
       "      <td>40432.000000</td>\n",
       "      <td>40432.000000</td>\n",
       "      <td>40432.000000</td>\n",
       "      <td>40432.000000</td>\n",
       "      <td>40432.000000</td>\n",
       "    </tr>\n",
       "    <tr>\n",
       "      <th>mean</th>\n",
       "      <td>-2.038558e-16</td>\n",
       "      <td>0.500000</td>\n",
       "      <td>0.108083</td>\n",
       "      <td>0.095172</td>\n",
       "      <td>0.098635</td>\n",
       "      <td>0.100317</td>\n",
       "      <td>0.116987</td>\n",
       "      <td>0.088742</td>\n",
       "      <td>0.105214</td>\n",
       "      <td>0.097596</td>\n",
       "      <td>0.095419</td>\n",
       "      <td>0.093837</td>\n",
       "    </tr>\n",
       "    <tr>\n",
       "      <th>std</th>\n",
       "      <td>1.000012e+00</td>\n",
       "      <td>0.500006</td>\n",
       "      <td>0.310489</td>\n",
       "      <td>0.293456</td>\n",
       "      <td>0.298175</td>\n",
       "      <td>0.300425</td>\n",
       "      <td>0.321408</td>\n",
       "      <td>0.284374</td>\n",
       "      <td>0.306832</td>\n",
       "      <td>0.296771</td>\n",
       "      <td>0.293797</td>\n",
       "      <td>0.291605</td>\n",
       "    </tr>\n",
       "    <tr>\n",
       "      <th>min</th>\n",
       "      <td>-2.845815e+00</td>\n",
       "      <td>0.000000</td>\n",
       "      <td>0.000000</td>\n",
       "      <td>0.000000</td>\n",
       "      <td>0.000000</td>\n",
       "      <td>0.000000</td>\n",
       "      <td>0.000000</td>\n",
       "      <td>0.000000</td>\n",
       "      <td>0.000000</td>\n",
       "      <td>0.000000</td>\n",
       "      <td>0.000000</td>\n",
       "      <td>0.000000</td>\n",
       "    </tr>\n",
       "    <tr>\n",
       "      <th>25%</th>\n",
       "      <td>-2.242157e-01</td>\n",
       "      <td>0.000000</td>\n",
       "      <td>0.000000</td>\n",
       "      <td>0.000000</td>\n",
       "      <td>0.000000</td>\n",
       "      <td>0.000000</td>\n",
       "      <td>0.000000</td>\n",
       "      <td>0.000000</td>\n",
       "      <td>0.000000</td>\n",
       "      <td>0.000000</td>\n",
       "      <td>0.000000</td>\n",
       "      <td>0.000000</td>\n",
       "    </tr>\n",
       "    <tr>\n",
       "      <th>50%</th>\n",
       "      <td>6.496506e-01</td>\n",
       "      <td>0.500000</td>\n",
       "      <td>0.000000</td>\n",
       "      <td>0.000000</td>\n",
       "      <td>0.000000</td>\n",
       "      <td>0.000000</td>\n",
       "      <td>0.000000</td>\n",
       "      <td>0.000000</td>\n",
       "      <td>0.000000</td>\n",
       "      <td>0.000000</td>\n",
       "      <td>0.000000</td>\n",
       "      <td>0.000000</td>\n",
       "    </tr>\n",
       "    <tr>\n",
       "      <th>75%</th>\n",
       "      <td>6.496506e-01</td>\n",
       "      <td>1.000000</td>\n",
       "      <td>0.000000</td>\n",
       "      <td>0.000000</td>\n",
       "      <td>0.000000</td>\n",
       "      <td>0.000000</td>\n",
       "      <td>0.000000</td>\n",
       "      <td>0.000000</td>\n",
       "      <td>0.000000</td>\n",
       "      <td>0.000000</td>\n",
       "      <td>0.000000</td>\n",
       "      <td>0.000000</td>\n",
       "    </tr>\n",
       "    <tr>\n",
       "      <th>max</th>\n",
       "      <td>6.496506e-01</td>\n",
       "      <td>1.000000</td>\n",
       "      <td>1.000000</td>\n",
       "      <td>1.000000</td>\n",
       "      <td>1.000000</td>\n",
       "      <td>1.000000</td>\n",
       "      <td>1.000000</td>\n",
       "      <td>1.000000</td>\n",
       "      <td>1.000000</td>\n",
       "      <td>1.000000</td>\n",
       "      <td>1.000000</td>\n",
       "      <td>1.000000</td>\n",
       "    </tr>\n",
       "  </tbody>\n",
       "</table>\n",
       "</div>"
      ],
      "text/plain": [
       "             rating         label       Books_5  Clothing_Shoes_and_Jewelry_5  \\\n",
       "count  4.043200e+04  40432.000000  40432.000000                  40432.000000   \n",
       "mean  -2.038558e-16      0.500000      0.108083                      0.095172   \n",
       "std    1.000012e+00      0.500006      0.310489                      0.293456   \n",
       "min   -2.845815e+00      0.000000      0.000000                      0.000000   \n",
       "25%   -2.242157e-01      0.000000      0.000000                      0.000000   \n",
       "50%    6.496506e-01      0.500000      0.000000                      0.000000   \n",
       "75%    6.496506e-01      1.000000      0.000000                      0.000000   \n",
       "max    6.496506e-01      1.000000      1.000000                      1.000000   \n",
       "\n",
       "       Electronics_5  Home_and_Kitchen_5  Kindle_Store_5  Movies_and_TV_5  \\\n",
       "count   40432.000000        40432.000000    40432.000000     40432.000000   \n",
       "mean        0.098635            0.100317        0.116987         0.088742   \n",
       "std         0.298175            0.300425        0.321408         0.284374   \n",
       "min         0.000000            0.000000        0.000000         0.000000   \n",
       "25%         0.000000            0.000000        0.000000         0.000000   \n",
       "50%         0.000000            0.000000        0.000000         0.000000   \n",
       "75%         0.000000            0.000000        0.000000         0.000000   \n",
       "max         1.000000            1.000000        1.000000         1.000000   \n",
       "\n",
       "       Pet_Supplies_5  Sports_and_Outdoors_5  Tools_and_Home_Improvement_5  \\\n",
       "count    40432.000000           40432.000000                  40432.000000   \n",
       "mean         0.105214               0.097596                      0.095419   \n",
       "std          0.306832               0.296771                      0.293797   \n",
       "min          0.000000               0.000000                      0.000000   \n",
       "25%          0.000000               0.000000                      0.000000   \n",
       "50%          0.000000               0.000000                      0.000000   \n",
       "75%          0.000000               0.000000                      0.000000   \n",
       "max          1.000000               1.000000                      1.000000   \n",
       "\n",
       "       Toys_and_Games_5  \n",
       "count      40432.000000  \n",
       "mean           0.093837  \n",
       "std            0.291605  \n",
       "min            0.000000  \n",
       "25%            0.000000  \n",
       "50%            0.000000  \n",
       "75%            0.000000  \n",
       "max            1.000000  "
      ]
     },
     "execution_count": 6,
     "metadata": {},
     "output_type": "execute_result"
    }
   ],
   "source": [
    "df.describe()"
   ]
  },
  {
   "cell_type": "code",
   "execution_count": 7,
   "id": "36e436ee",
   "metadata": {},
   "outputs": [
    {
     "data": {
      "image/png": "[encoded data removed]",
      "text/plain": [
       "<Figure size 1000x600 with 1 Axes>"
      ]
     },
     "metadata": {},
     "output_type": "display_data"
    }
   ],
   "source": [
    "# Histograms\n",
    "plt.figure(figsize=(10, 6))\n",
    "plt.hist(df['rating'], bins=20, color='skyblue', edgecolor='black')\n",
    "plt.title('Distribution of Ratings')\n",
    "plt.xlabel('Rating')\n",
    "plt.ylabel('Frequency')\n",
    "plt.grid(True)\n",
    "plt.show()"
   ]
  },
  {
   "cell_type": "code",
   "execution_count": 8,
   "id": "24116145",
   "metadata": {
    "scrolled": true
   },
   "outputs": [
    {
     "name": "stdout",
     "output_type": "stream",
     "text": [
      "Top 20 most common words:\n",
      "1. great: 16420 times\n",
      "2. book: 15002 times\n",
      "3. good: 14200 times\n",
      "4. one: 13395 times\n",
      "5. love: 10805 times\n",
      "6. would: 10362 times\n",
      "7. well: 10279 times\n",
      "8. story: 9627 times\n",
      "9. like: 9428 times\n",
      "10. read: 8868 times\n",
      "11. little: 8144 times\n",
      "12. get: 6467 times\n",
      "13. recommend: 6179 times\n",
      "14. characters: 6151 times\n",
      "15. really: 6119 times\n",
      "16. use: 5923 times\n",
      "17. bought: 5736 times\n",
      "18. also: 5721 times\n",
      "19. movie: 5548 times\n",
      "20. im: 5269 times\n"
     ]
    }
   ],
   "source": [
    "# Top 20 most common words\n",
    "\n",
    "# Convert float values to strings before concatenating\n",
    "all_reviews = ' '.join(str(review) for review in df['text_'] if isinstance(review, str))\n",
    "\n",
    "# Tokenize the text into individual words\n",
    "words = all_reviews.split()\n",
    "\n",
    "# Count the frequency of each word\n",
    "word_counts = Counter(words)\n",
    "\n",
    "print(\"Top 20 most common words:\")\n",
    "for i, (word, count) in enumerate(word_counts.most_common(20), 1):\n",
    "    print(f\"{i}. {word}: {count} times\")"
   ]
  },
  {
   "cell_type": "code",
   "execution_count": 9,
   "id": "99ed464c",
   "metadata": {
    "scrolled": true
   },
   "outputs": [
    {
     "data": {
      "text/plain": [
       "0    love well made sturdy comfortable love itvery ...\n",
       "1    love great upgrade original ive mine couple years\n",
       "2              pillow saved back love look feel pillow\n",
       "3          missing information use great product price\n",
       "4                 nice set good quality set two months\n",
       "5                             wanted different flavors\n",
       "6                perfect touch thing wish little space\n",
       "7    done fit well look great love smoothness edges...\n",
       "8    great big numbers easy read thing didnt like size\n",
       "Name: text_, dtype: object"
      ]
     },
     "execution_count": 9,
     "metadata": {},
     "output_type": "execute_result"
    }
   ],
   "source": [
    "df.iloc[0:9]['text_']"
   ]
  },
  {
   "cell_type": "code",
   "execution_count": 10,
   "id": "7bb84e3d",
   "metadata": {
    "scrolled": true
   },
   "outputs": [
    {
     "data": {
      "text/html": [
       "<div>\n",
       "<style scoped>\n",
       "    .dataframe tbody tr th:only-of-type {\n",
       "        vertical-align: middle;\n",
       "    }\n",
       "\n",
       "    .dataframe tbody tr th {\n",
       "        vertical-align: top;\n",
       "    }\n",
       "\n",
       "    .dataframe thead th {\n",
       "        text-align: right;\n",
       "    }\n",
       "</style>\n",
       "<table border=\"1\" class=\"dataframe\">\n",
       "  <thead>\n",
       "    <tr style=\"text-align: right;\">\n",
       "      <th></th>\n",
       "      <th>rating</th>\n",
       "      <th>label</th>\n",
       "      <th>text_</th>\n",
       "    </tr>\n",
       "  </thead>\n",
       "  <tbody>\n",
       "    <tr>\n",
       "      <th>40430</th>\n",
       "      <td>-2.845815</td>\n",
       "      <td>1</td>\n",
       "      <td>liked nothing dress reason gave stars ordered ...</td>\n",
       "    </tr>\n",
       "    <tr>\n",
       "      <th>22082</th>\n",
       "      <td>-2.845815</td>\n",
       "      <td>1</td>\n",
       "      <td>bought totally happy two us strong dog top nic...</td>\n",
       "    </tr>\n",
       "    <tr>\n",
       "      <th>3992</th>\n",
       "      <td>-2.845815</td>\n",
       "      <td>1</td>\n",
       "      <td>kitchen aid went south time try something else...</td>\n",
       "    </tr>\n",
       "    <tr>\n",
       "      <th>3990</th>\n",
       "      <td>-2.845815</td>\n",
       "      <td>1</td>\n",
       "      <td>ok product easy use product works mevery prett...</td>\n",
       "    </tr>\n",
       "    <tr>\n",
       "      <th>22109</th>\n",
       "      <td>-2.845815</td>\n",
       "      <td>1</td>\n",
       "      <td>listened reviewers quality good really best on...</td>\n",
       "    </tr>\n",
       "  </tbody>\n",
       "</table>\n",
       "</div>"
      ],
      "text/plain": [
       "         rating  label                                              text_\n",
       "40430 -2.845815      1  liked nothing dress reason gave stars ordered ...\n",
       "22082 -2.845815      1  bought totally happy two us strong dog top nic...\n",
       "3992  -2.845815      1  kitchen aid went south time try something else...\n",
       "3990  -2.845815      1  ok product easy use product works mevery prett...\n",
       "22109 -2.845815      1  listened reviewers quality good really best on..."
      ]
     },
     "execution_count": 10,
     "metadata": {},
     "output_type": "execute_result"
    }
   ],
   "source": [
    "#worst 5, genuine\n",
    "df[df['label'] == 1][['rating', 'label', 'text_']].sort_values(by='rating').head(5)"
   ]
  },
  {
   "cell_type": "code",
   "execution_count": 11,
   "id": "c6907239",
   "metadata": {
    "scrolled": true
   },
   "outputs": [
    {
     "data": {
      "text/html": [
       "<div>\n",
       "<style scoped>\n",
       "    .dataframe tbody tr th:only-of-type {\n",
       "        vertical-align: middle;\n",
       "    }\n",
       "\n",
       "    .dataframe tbody tr th {\n",
       "        vertical-align: top;\n",
       "    }\n",
       "\n",
       "    .dataframe thead th {\n",
       "        text-align: right;\n",
       "    }\n",
       "</style>\n",
       "<table border=\"1\" class=\"dataframe\">\n",
       "  <thead>\n",
       "    <tr style=\"text-align: right;\">\n",
       "      <th></th>\n",
       "      <th>rating</th>\n",
       "      <th>label</th>\n",
       "      <th>text_</th>\n",
       "    </tr>\n",
       "  </thead>\n",
       "  <tbody>\n",
       "    <tr>\n",
       "      <th>14625</th>\n",
       "      <td>-2.845815</td>\n",
       "      <td>0</td>\n",
       "      <td>hyped watch movie theater let movie good decen...</td>\n",
       "    </tr>\n",
       "    <tr>\n",
       "      <th>13845</th>\n",
       "      <td>-2.845815</td>\n",
       "      <td>0</td>\n",
       "      <td>boy shags strainge woman woods starts change f...</td>\n",
       "    </tr>\n",
       "    <tr>\n",
       "      <th>13844</th>\n",
       "      <td>-2.845815</td>\n",
       "      <td>0</td>\n",
       "      <td>need select different scenes show college clas...</td>\n",
       "    </tr>\n",
       "    <tr>\n",
       "      <th>13842</th>\n",
       "      <td>-2.845815</td>\n",
       "      <td>0</td>\n",
       "      <td>satisfied dvd especially sound clear fades sce...</td>\n",
       "    </tr>\n",
       "    <tr>\n",
       "      <th>22728</th>\n",
       "      <td>-2.845815</td>\n",
       "      <td>0</td>\n",
       "      <td>even though best value rat pellets price worth...</td>\n",
       "    </tr>\n",
       "  </tbody>\n",
       "</table>\n",
       "</div>"
      ],
      "text/plain": [
       "         rating  label                                              text_\n",
       "14625 -2.845815      0  hyped watch movie theater let movie good decen...\n",
       "13845 -2.845815      0  boy shags strainge woman woods starts change f...\n",
       "13844 -2.845815      0  need select different scenes show college clas...\n",
       "13842 -2.845815      0  satisfied dvd especially sound clear fades sce...\n",
       "22728 -2.845815      0  even though best value rat pellets price worth..."
      ]
     },
     "execution_count": 11,
     "metadata": {},
     "output_type": "execute_result"
    }
   ],
   "source": [
    "#worst 5, fake\n",
    "df[df['label'] == 0][['rating', 'label', 'text_']].sort_values(by='rating').head(5)"
   ]
  },
  {
   "cell_type": "code",
   "execution_count": 12,
   "id": "1c3960f0",
   "metadata": {},
   "outputs": [
    {
     "data": {
      "text/html": [
       "<div>\n",
       "<style scoped>\n",
       "    .dataframe tbody tr th:only-of-type {\n",
       "        vertical-align: middle;\n",
       "    }\n",
       "\n",
       "    .dataframe tbody tr th {\n",
       "        vertical-align: top;\n",
       "    }\n",
       "\n",
       "    .dataframe thead th {\n",
       "        text-align: right;\n",
       "    }\n",
       "</style>\n",
       "<table border=\"1\" class=\"dataframe\">\n",
       "  <thead>\n",
       "    <tr style=\"text-align: right;\">\n",
       "      <th></th>\n",
       "      <th>rating</th>\n",
       "      <th>label</th>\n",
       "      <th>text_</th>\n",
       "    </tr>\n",
       "  </thead>\n",
       "  <tbody>\n",
       "    <tr>\n",
       "      <th>0</th>\n",
       "      <td>0.649651</td>\n",
       "      <td>1</td>\n",
       "      <td>love well made sturdy comfortable love itvery ...</td>\n",
       "    </tr>\n",
       "    <tr>\n",
       "      <th>23277</th>\n",
       "      <td>0.649651</td>\n",
       "      <td>1</td>\n",
       "      <td>package arrived within resonable time frame in...</td>\n",
       "    </tr>\n",
       "    <tr>\n",
       "      <th>23233</th>\n",
       "      <td>0.649651</td>\n",
       "      <td>1</td>\n",
       "      <td>third upgrade thought would nice addition litt...</td>\n",
       "    </tr>\n",
       "    <tr>\n",
       "      <th>23240</th>\n",
       "      <td>0.649651</td>\n",
       "      <td>1</td>\n",
       "      <td>well made easy clean keep house use go bed thi...</td>\n",
       "    </tr>\n",
       "    <tr>\n",
       "      <th>23241</th>\n",
       "      <td>0.649651</td>\n",
       "      <td>1</td>\n",
       "      <td>reluctant buy shipping bit slow however able g...</td>\n",
       "    </tr>\n",
       "  </tbody>\n",
       "</table>\n",
       "</div>"
      ],
      "text/plain": [
       "         rating  label                                              text_\n",
       "0      0.649651      1  love well made sturdy comfortable love itvery ...\n",
       "23277  0.649651      1  package arrived within resonable time frame in...\n",
       "23233  0.649651      1  third upgrade thought would nice addition litt...\n",
       "23240  0.649651      1  well made easy clean keep house use go bed thi...\n",
       "23241  0.649651      1  reluctant buy shipping bit slow however able g..."
      ]
     },
     "execution_count": 12,
     "metadata": {},
     "output_type": "execute_result"
    }
   ],
   "source": [
    "#best 5, genuine\n",
    "df[df['label'] == 1][['rating', 'label', 'text_']].sort_values(by='rating', ascending = False).head(5)"
   ]
  },
  {
   "cell_type": "code",
   "execution_count": 13,
   "id": "48287e11",
   "metadata": {
    "scrolled": true
   },
   "outputs": [
    {
     "data": {
      "text/html": [
       "<div>\n",
       "<style scoped>\n",
       "    .dataframe tbody tr th:only-of-type {\n",
       "        vertical-align: middle;\n",
       "    }\n",
       "\n",
       "    .dataframe tbody tr th {\n",
       "        vertical-align: top;\n",
       "    }\n",
       "\n",
       "    .dataframe thead th {\n",
       "        text-align: right;\n",
       "    }\n",
       "</style>\n",
       "<table border=\"1\" class=\"dataframe\">\n",
       "  <thead>\n",
       "    <tr style=\"text-align: right;\">\n",
       "      <th></th>\n",
       "      <th>rating</th>\n",
       "      <th>label</th>\n",
       "      <th>text_</th>\n",
       "    </tr>\n",
       "  </thead>\n",
       "  <tbody>\n",
       "    <tr>\n",
       "      <th>55</th>\n",
       "      <td>0.649651</td>\n",
       "      <td>0</td>\n",
       "      <td>perfect exactly looking</td>\n",
       "    </tr>\n",
       "    <tr>\n",
       "      <th>23361</th>\n",
       "      <td>0.649651</td>\n",
       "      <td>0</td>\n",
       "      <td>tried product different cats two gobbled table...</td>\n",
       "    </tr>\n",
       "    <tr>\n",
       "      <th>23328</th>\n",
       "      <td>0.649651</td>\n",
       "      <td>0</td>\n",
       "      <td>great product natures miracle jaw scoop helps ...</td>\n",
       "    </tr>\n",
       "    <tr>\n",
       "      <th>23329</th>\n",
       "      <td>0.649651</td>\n",
       "      <td>0</td>\n",
       "      <td>oldest cat years gi tract issues occasionally ...</td>\n",
       "    </tr>\n",
       "    <tr>\n",
       "      <th>23332</th>\n",
       "      <td>0.649651</td>\n",
       "      <td>0</td>\n",
       "      <td>love harness bigs dogs walk regularly switched...</td>\n",
       "    </tr>\n",
       "  </tbody>\n",
       "</table>\n",
       "</div>"
      ],
      "text/plain": [
       "         rating  label                                              text_\n",
       "55     0.649651      0                            perfect exactly looking\n",
       "23361  0.649651      0  tried product different cats two gobbled table...\n",
       "23328  0.649651      0  great product natures miracle jaw scoop helps ...\n",
       "23329  0.649651      0  oldest cat years gi tract issues occasionally ...\n",
       "23332  0.649651      0  love harness bigs dogs walk regularly switched..."
      ]
     },
     "execution_count": 13,
     "metadata": {},
     "output_type": "execute_result"
    }
   ],
   "source": [
    "#best 5, fake\n",
    "df[df['label'] == 0][['rating', 'label', 'text_']].sort_values(by='rating', ascending = False).head(5)"
   ]
  },
  {
   "cell_type": "markdown",
   "id": "55bfa5c7",
   "metadata": {},
   "source": [
    "## Word frequency analysis on genuine and fake reviews"
   ]
  },
  {
   "cell_type": "code",
   "execution_count": 14,
   "id": "c255f760",
   "metadata": {},
   "outputs": [
    {
     "data": {
      "image/png": "[encoded data removed]",
      "text/plain": [
       "<Figure size 1200x600 with 1 Axes>"
      ]
     },
     "metadata": {},
     "output_type": "display_data"
    }
   ],
   "source": [
    "# Tokenize function\n",
    "def tokenize(text):\n",
    "    if isinstance(text, str):\n",
    "        return word_tokenize(text)\n",
    "    else:\n",
    "        return []\n",
    "\n",
    "# Separate genuine and fake reviews\n",
    "genuine_reviews = df[df['label'] == 1]['text_']\n",
    "fake_reviews = df[df['label'] == 0]['text_']\n",
    "\n",
    "# Tokenize genuine reviews\n",
    "genuine_tokens = genuine_reviews.apply(tokenize)\n",
    "\n",
    "# Tokenize fake reviews\n",
    "fake_tokens = fake_reviews.apply(tokenize)\n",
    "\n",
    "# Flatten the list of tokens\n",
    "genuine_words = [word for sublist in genuine_tokens for word in sublist]\n",
    "fake_words = [word for sublist in fake_tokens for word in sublist]\n",
    "\n",
    "# Count word frequency for genuine reviews\n",
    "genuine_word_freq = Counter(genuine_words)\n",
    "\n",
    "# Count word frequency for fake reviews\n",
    "fake_word_freq = Counter(fake_words)\n",
    "\n",
    "# Plot word frequency distributions\n",
    "plt.figure(figsize=(12, 6))\n",
    "plt.bar(*zip(*genuine_word_freq.most_common(20)), color='skyblue', label='Genuine')\n",
    "plt.bar(*zip(*fake_word_freq.most_common(20)), color='salmon', label='Fake')\n",
    "plt.xlabel('Word')\n",
    "plt.ylabel('Frequency')\n",
    "plt.title('Top 20 Word Frequencies in Genuine and Fake Reviews')\n",
    "plt.xticks(rotation=45)\n",
    "plt.legend()\n",
    "plt.show()"
   ]
  },
  {
   "cell_type": "code",
   "execution_count": 15,
   "id": "5bb48cc6",
   "metadata": {},
   "outputs": [
    {
     "name": "stdout",
     "output_type": "stream",
     "text": [
      "Top 20 most common words in Genuine Reviews:\n",
      "1. great: 10645 times\n",
      "2. book: 9783 times\n",
      "3. good: 9451 times\n",
      "4. love: 6863 times\n",
      "5. story: 6761 times\n",
      "6. one: 6585 times\n",
      "7. well: 6061 times\n",
      "8. would: 6037 times\n",
      "9. read: 5609 times\n",
      "10. little: 5318 times\n",
      "11. recommend: 4765 times\n",
      "12. characters: 4696 times\n",
      "13. like: 4184 times\n",
      "14. movie: 4096 times\n",
      "15. bought: 3981 times\n",
      "16. loves: 3639 times\n",
      "17. small: 3466 times\n",
      "18. also: 3361 times\n",
      "19. im: 3164 times\n",
      "20. nice: 3116 times\n",
      "\n",
      "Top 20 most common words in Fake Reviews:\n",
      "1. one: 6810 times\n",
      "2. great: 5775 times\n",
      "3. like: 5244 times\n",
      "4. book: 5219 times\n",
      "5. good: 4749 times\n",
      "6. would: 4325 times\n",
      "7. well: 4218 times\n",
      "8. love: 3942 times\n",
      "9. really: 3534 times\n",
      "10. get: 3525 times\n",
      "11. read: 3259 times\n",
      "12. use: 2978 times\n",
      "13. time: 2897 times\n",
      "14. story: 2866 times\n",
      "15. much: 2852 times\n",
      "16. little: 2826 times\n",
      "17. dont: 2482 times\n",
      "18. also: 2360 times\n",
      "19. first: 2162 times\n",
      "20. even: 2114 times\n"
     ]
    }
   ],
   "source": [
    "## Convert float values to strings before concatenating for genuine reviews\n",
    "#genuine_reviews_str = ' '.join(str(review) for review in genuine_reviews if isinstance(review, str))\n",
    "#\n",
    "## Tokenize the text into individual words for genuine reviews\n",
    "#genuine_words = genuine_reviews_str.split()\n",
    "#\n",
    "## Count the frequency of each word for genuine reviews\n",
    "#genuine_word_counts = Counter(genuine_words)\n",
    "#\n",
    "## Print the top 20 most common words for genuine reviews\n",
    "#print(\"Top 20 most common words in Genuine Reviews:\")\n",
    "#for i, (word, count) in enumerate(genuine_word_counts.most_common(20), 1):\n",
    "#    print(f\"{i}. {word}: {count} times\")\n",
    "#\n",
    "## Convert float values to strings before concatenating for fake reviews\n",
    "#fake_reviews_str = ' '.join(str(review) for review in fake_reviews if isinstance(review, str))\n",
    "#\n",
    "## Tokenize the text into individual words for fake reviews\n",
    "#fake_words = fake_reviews_str.split()\n",
    "#\n",
    "## Count the frequency of each word for fake reviews\n",
    "#fake_word_counts = Counter(fake_words)\n",
    "#\n",
    "## Print the top 20 most common words for fake reviews\n",
    "#print(\"\\nTop 20 most common words in Fake Reviews:\")\n",
    "#for i, (word, count) in enumerate(fake_word_counts.most_common(20), 1):\n",
    "#    print(f\"{i}. {word}: {count} times\")\n"
   ]
  },
  {
   "cell_type": "markdown",
   "id": "3318f0e3",
   "metadata": {},
   "source": [
    "## Top 20 words that ONLY show up in fake reviews"
   ]
  },
  {
   "cell_type": "code",
   "execution_count": 16,
   "id": "fed56d89",
   "metadata": {},
   "outputs": [
    {
     "ename": "KeyboardInterrupt",
     "evalue": "",
     "output_type": "error",
     "traceback": [
      "\u001b[0;31m---------------------------------------------------------------------------\u001b[0m",
      "\u001b[0;31mKeyboardInterrupt\u001b[0m                         Traceback (most recent call last)",
      "Cell \u001b[0;32mIn[16], line 9\u001b[0m\n\u001b[1;32m      6\u001b[0m only_in_fake \u001b[38;5;241m=\u001b[39m fake_words_set \u001b[38;5;241m-\u001b[39m genuine_words_set\n\u001b[1;32m      8\u001b[0m \u001b[38;5;66;03m# Count the frequency of each word that only appears in fake reviews\u001b[39;00m\n\u001b[0;32m----> 9\u001b[0m only_in_fake_freq \u001b[38;5;241m=\u001b[39m {word: fake_words\u001b[38;5;241m.\u001b[39mcount(word) \u001b[38;5;28;01mfor\u001b[39;00m word \u001b[38;5;129;01min\u001b[39;00m only_in_fake}\n\u001b[1;32m     11\u001b[0m \u001b[38;5;66;03m# Get the top 20 words with the highest frequency that only appear in fake reviews\u001b[39;00m\n\u001b[1;32m     12\u001b[0m top_fake_only_words \u001b[38;5;241m=\u001b[39m \u001b[38;5;28msorted\u001b[39m(only_in_fake_freq\u001b[38;5;241m.\u001b[39mitems(), key\u001b[38;5;241m=\u001b[39m\u001b[38;5;28;01mlambda\u001b[39;00m x: x[\u001b[38;5;241m1\u001b[39m], reverse\u001b[38;5;241m=\u001b[39m\u001b[38;5;28;01mTrue\u001b[39;00m)[:\u001b[38;5;241m20\u001b[39m]\n",
      "Cell \u001b[0;32mIn[16], line 9\u001b[0m, in \u001b[0;36m<dictcomp>\u001b[0;34m(.0)\u001b[0m\n\u001b[1;32m      6\u001b[0m only_in_fake \u001b[38;5;241m=\u001b[39m fake_words_set \u001b[38;5;241m-\u001b[39m genuine_words_set\n\u001b[1;32m      8\u001b[0m \u001b[38;5;66;03m# Count the frequency of each word that only appears in fake reviews\u001b[39;00m\n\u001b[0;32m----> 9\u001b[0m only_in_fake_freq \u001b[38;5;241m=\u001b[39m {word: \u001b[43mfake_words\u001b[49m\u001b[38;5;241;43m.\u001b[39;49m\u001b[43mcount\u001b[49m\u001b[43m(\u001b[49m\u001b[43mword\u001b[49m\u001b[43m)\u001b[49m \u001b[38;5;28;01mfor\u001b[39;00m word \u001b[38;5;129;01min\u001b[39;00m only_in_fake}\n\u001b[1;32m     11\u001b[0m \u001b[38;5;66;03m# Get the top 20 words with the highest frequency that only appear in fake reviews\u001b[39;00m\n\u001b[1;32m     12\u001b[0m top_fake_only_words \u001b[38;5;241m=\u001b[39m \u001b[38;5;28msorted\u001b[39m(only_in_fake_freq\u001b[38;5;241m.\u001b[39mitems(), key\u001b[38;5;241m=\u001b[39m\u001b[38;5;28;01mlambda\u001b[39;00m x: x[\u001b[38;5;241m1\u001b[39m], reverse\u001b[38;5;241m=\u001b[39m\u001b[38;5;28;01mTrue\u001b[39;00m)[:\u001b[38;5;241m20\u001b[39m]\n",
      "\u001b[0;31mKeyboardInterrupt\u001b[0m: "
     ]
    }
   ],
   "source": [
    "# Get the set of words in fake reviews and genuine reviews\n",
    "fake_words_set = set(fake_words)\n",
    "genuine_words_set = set(genuine_words)\n",
    "\n",
    "# Find the words that only appear in fake reviews\n",
    "only_in_fake = fake_words_set - genuine_words_set\n",
    "\n",
    "# Count the frequency of each word that only appears in fake reviews\n",
    "only_in_fake_freq = {word: fake_words.count(word) for word in only_in_fake}\n",
    "\n",
    "# Get the top 20 words with the highest frequency that only appear in fake reviews\n",
    "top_fake_only_words = sorted(only_in_fake_freq.items(), key=lambda x: x[1], reverse=True)[:20]\n",
    "\n",
    "# Print the top 20 words that only appear in fake reviews\n",
    "print(\"Top 20 words that only show up in Fake Reviews:\")\n",
    "for i, (word, freq) in enumerate(top_fake_only_words, 1):\n",
    "    print(f\"{i}. {word}: {freq} times\")\n"
   ]
  },
  {
   "cell_type": "code",
   "execution_count": null,
   "id": "bfa7c312",
   "metadata": {},
   "outputs": [],
   "source": []
  },
  {
   "cell_type": "markdown",
   "id": "a3c4a5da",
   "metadata": {},
   "source": [
    "## Top 20 words that show up more in fake reviews than genuine reviews"
   ]
  },
  {
   "cell_type": "code",
   "execution_count": null,
   "id": "8a9ad437",
   "metadata": {},
   "outputs": [],
   "source": [
    "# Calculate word frequency differences between fake and genuine reviews\n",
    "word_freq_diff = fake_word_counts - genuine_word_counts\n",
    "\n",
    "# Extract the top 20 words with the highest frequency differences\n",
    "top_fake_words = word_freq_diff.most_common(20)\n",
    "\n",
    "# Print the top 20 words that only show up in fake reviews\n",
    "print(\"Top 20 words that show up more in Fake Reviews:\")\n",
    "for i, (word, freq_diff) in enumerate(top_fake_words, 1):\n",
    "    print(f\"{i}. {word}: {freq_diff} times more common in fake reviews\")\n"
   ]
  },
  {
   "cell_type": "code",
   "execution_count": null,
   "id": "98f20bba",
   "metadata": {},
   "outputs": [],
   "source": []
  },
  {
   "cell_type": "code",
   "execution_count": null,
   "id": "04e2e0f5",
   "metadata": {},
   "outputs": [],
   "source": []
  },
  {
   "cell_type": "code",
   "execution_count": null,
   "id": "2cdfbce7",
   "metadata": {},
   "outputs": [],
   "source": [
    "\n",
    "    "
   ]
  },
  {
   "cell_type": "code",
   "execution_count": null,
   "id": "a7b0bccb",
   "metadata": {},
   "outputs": [],
   "source": []
  },
  {
   "cell_type": "code",
   "execution_count": null,
   "id": "6e40d49d",
   "metadata": {
    "scrolled": true
   },
   "outputs": [],
   "source": [
    "\n"
   ]
  },
  {
   "cell_type": "code",
   "execution_count": null,
   "id": "95142c97",
   "metadata": {},
   "outputs": [],
   "source": [
    "\n"
   ]
  },
  {
   "cell_type": "code",
   "execution_count": null,
   "id": "9a6a9042",
   "metadata": {},
   "outputs": [],
   "source": []
  },
  {
   "cell_type": "code",
   "execution_count": 17,
   "id": "7dbf5942",
   "metadata": {},
   "outputs": [
    {
     "data": {
      "image/png": "[encoded data removed]",
      "text/plain": [
       "<Figure size 1600x400 with 3 Axes>"
      ]
     },
     "metadata": {},
     "output_type": "display_data"
    },
    {
     "data": {
      "image/png": "[encoded data removed]",
      "text/plain": [
       "<Figure size 1600x400 with 3 Axes>"
      ]
     },
     "metadata": {},
     "output_type": "display_data"
    }
   ],
   "source": [
    "# Generate plots of word frequency vs. rank\n",
    "\n",
    "all_words = []\n",
    "cg_words = []\n",
    "or_words = []\n",
    "\n",
    "\n",
    "for i in df.index:\n",
    "    s = df.loc[i, \"text_\"]\n",
    "    if s == np.nan:\n",
    "        continue\n",
    "    words = str(s).split(\" \")\n",
    "    if df.loc[i, \"label\"] == 1:\n",
    "        for w in words:\n",
    "            all_words.append(w)\n",
    "            cg_words.append(w)\n",
    "    else:\n",
    "        for w in words:\n",
    "            all_words.append(w)\n",
    "            or_words.append(w)\n",
    "            \n",
    "word_counts = pd.Series(all_words).value_counts()\n",
    "cg_word_counts = pd.Series(cg_words).value_counts()\n",
    "or_word_counts = pd.Series(or_words).value_counts()\n",
    "\n",
    "nwords = word_counts.shape[0]\n",
    "cg_nwords = cg_word_counts.shape[0]\n",
    "or_nwords = or_word_counts.shape[0]\n",
    "\n",
    "xmin = word_counts.shape[0] * -0.05\n",
    "xmax =  word_counts.shape[0] * 1.05\n",
    "yl = max(max(word_counts) / word_counts.sum(), max(cg_word_counts) / cg_word_counts.sum(), max(or_word_counts) / or_word_counts.sum())\n",
    "ymax = yl * 1.05\n",
    "ymin = yl * -0.05\n",
    "\n",
    "fig, axs = plt.subplots(ncols=3, figsize=(16, 4))\n",
    "\n",
    "axs[0].plot(range(1, nwords + 1), word_counts / word_counts.sum())\n",
    "axs[0].set_title(\"Word Frequency vs Rank: All Reviews\")\n",
    "axs[0].set_xlabel(\"Rank\")\n",
    "axs[0].set_ylabel(\"Frequency\")\n",
    "axs[0].set_xlim((xmin, xmax))\n",
    "axs[0].set_ylim((ymin, ymax))\n",
    "\n",
    "axs[1].plot(range(1, cg_nwords + 1), cg_word_counts / cg_word_counts.sum())\n",
    "axs[1].set_title(\"Word Frequency vs Rank: Fake Reviews\")\n",
    "axs[1].set_xlabel(\"Rank\")\n",
    "axs[1].set_ylabel(\"Frequency\")\n",
    "axs[1].set_xlim((xmin, xmax))\n",
    "axs[1].set_ylim((ymin, ymax))\n",
    "\n",
    "axs[2].plot(range(1, or_nwords + 1), or_word_counts / or_word_counts.sum())\n",
    "axs[2].set_title(\"Word Frequency vs Rank: Real Reviews\")\n",
    "axs[2].set_xlabel(\"Rank\")\n",
    "axs[2].set_ylabel(\"Frequency\")\n",
    "axs[2].set_xlim((xmin, xmax))\n",
    "axs[2].set_ylim((ymin, ymax))\n",
    "\n",
    "plt.tight_layout()\n",
    "\n",
    "fig, axs = plt.subplots(ncols=3, figsize=(16, 4))\n",
    "\n",
    "xmin = np.log(word_counts.shape[0]) / np.log(10) * -0.05\n",
    "xmax =  np.log(word_counts.shape[0]) / np.log(10)* 1.05\n",
    "ymax = max(np.log(word_counts) / np.log(10)) * 1.05\n",
    "ymin = max(np.log(word_counts) / np.log(10)) * -0.05\n",
    "\n",
    "ymx = np.log(max(word_counts.max() / word_counts.sum(), cg_word_counts.max() / cg_word_counts.sum(), or_word_counts.max() / or_word_counts.sum())) / np.log(10)\n",
    "ymn = np.log(min(word_counts.min() / word_counts.sum(), cg_word_counts.min() / cg_word_counts.sum(), or_word_counts.min() / or_word_counts.sum())) / np.log(10)\n",
    "\n",
    "yd = ymx - ymn\n",
    "\n",
    "ymax = ymx + yd * 0.05\n",
    "ymin = ymn - yd * 0.05\n",
    "    \n",
    "\n",
    "axs[0].plot(np.log(range(1, nwords + 1)) / np.log(10), np.log(word_counts / word_counts.sum()) / np.log(10))\n",
    "axs[0].set_title(\"Log Frequency vs Log Rank: All Reviews\")\n",
    "axs[0].set_xlabel(\"Log Rank\")\n",
    "axs[0].set_ylabel(\"Log Frequency\")\n",
    "axs[0].set_xlim((xmin, xmax))\n",
    "axs[0].set_ylim((ymin, ymax))\n",
    "\n",
    "\n",
    "axs[1].plot(np.log(range(1, cg_nwords + 1)) / np.log(10), np.log(cg_word_counts / cg_word_counts.sum()) / np.log(10))\n",
    "axs[1].set_title(\"Log Frequency vs Log Rank: Fake Reviews\")\n",
    "axs[1].set_xlabel(\"Log Rank\")\n",
    "axs[1].set_ylabel(\"Log Frequency\")\n",
    "axs[1].set_xlim((xmin, xmax))\n",
    "axs[1].set_ylim((ymin, ymax))\n",
    "\n",
    "axs[2].plot(np.log(range(1, or_nwords + 1)) / np.log(10), np.log(or_word_counts / or_word_counts.sum()) / np.log(10))\n",
    "axs[2].set_title(\"Log Frequency vs Log Rank: Real Reviews\")\n",
    "axs[2].set_xlabel(\"Log Rank\")\n",
    "axs[2].set_ylabel(\"Log Frequency\")\n",
    "axs[2].set_xlim((xmin, xmax))\n",
    "axs[2].set_ylim((ymin, ymax))\n",
    "\n",
    "plt.tight_layout()\n"
   ]
  },
  {
   "cell_type": "markdown",
   "id": "3cc93bca",
   "metadata": {},
   "source": [
    "The processed distribution of words used in the ratings does not closely follow <a href=\"https://www.ncbi.nlm.nih.gov/pmc/articles/PMC4176592/\">Zipf's law</a>, but we do see the expected long tail of infrequently used words in the real reviews. The fake reviews appear to draw from a greatly restricted vocabulary."
   ]
  },
  {
   "cell_type": "code",
   "execution_count": 29,
   "id": "c34334ba",
   "metadata": {},
   "outputs": [
    {
     "ename": "KeyboardInterrupt",
     "evalue": "",
     "output_type": "error",
     "traceback": [
      "\u001b[0;31m---------------------------------------------------------------------------\u001b[0m",
      "\u001b[0;31mKeyboardInterrupt\u001b[0m                         Traceback (most recent call last)",
      "Cell \u001b[0;32mIn[29], line 37\u001b[0m\n\u001b[1;32m     35\u001b[0m random\u001b[38;5;241m.\u001b[39mshuffle(train_examples) \n\u001b[1;32m     36\u001b[0m \u001b[38;5;28;01mfor\u001b[39;00m example \u001b[38;5;129;01min\u001b[39;00m train_examples: \n\u001b[0;32m---> 37\u001b[0m   \u001b[43mnlp\u001b[49m\u001b[38;5;241;43m.\u001b[39;49m\u001b[43mupdate\u001b[49m\u001b[43m(\u001b[49m\u001b[43m[\u001b[49m\u001b[43mexample\u001b[49m\u001b[43m]\u001b[49m\u001b[43m,\u001b[49m\u001b[43m \u001b[49m\u001b[43msgd\u001b[49m\u001b[38;5;241;43m=\u001b[39;49m\u001b[43moptimizer\u001b[49m\u001b[43m)\u001b[49m \n",
      "File \u001b[0;32m/usr/local/lib/python3.10/dist-packages/spacy/language.py:1201\u001b[0m, in \u001b[0;36mLanguage.update\u001b[0;34m(self, examples, _, drop, sgd, losses, component_cfg, exclude, annotates)\u001b[0m\n\u001b[1;32m   1194\u001b[0m \u001b[38;5;28;01mif\u001b[39;00m sgd \u001b[38;5;129;01mnot\u001b[39;00m \u001b[38;5;129;01min\u001b[39;00m (\u001b[38;5;28;01mNone\u001b[39;00m, \u001b[38;5;28;01mFalse\u001b[39;00m):\n\u001b[1;32m   1195\u001b[0m     \u001b[38;5;28;01mif\u001b[39;00m (\n\u001b[1;32m   1196\u001b[0m         name \u001b[38;5;129;01mnot\u001b[39;00m \u001b[38;5;129;01min\u001b[39;00m exclude\n\u001b[1;32m   1197\u001b[0m         \u001b[38;5;129;01mand\u001b[39;00m \u001b[38;5;28misinstance\u001b[39m(proc, ty\u001b[38;5;241m.\u001b[39mTrainableComponent)\n\u001b[1;32m   1198\u001b[0m         \u001b[38;5;129;01mand\u001b[39;00m proc\u001b[38;5;241m.\u001b[39mis_trainable\n\u001b[1;32m   1199\u001b[0m         \u001b[38;5;129;01mand\u001b[39;00m proc\u001b[38;5;241m.\u001b[39mmodel \u001b[38;5;129;01mnot\u001b[39;00m \u001b[38;5;129;01min\u001b[39;00m (\u001b[38;5;28;01mTrue\u001b[39;00m, \u001b[38;5;28;01mFalse\u001b[39;00m, \u001b[38;5;28;01mNone\u001b[39;00m)\n\u001b[1;32m   1200\u001b[0m     ):\n\u001b[0;32m-> 1201\u001b[0m         \u001b[43mproc\u001b[49m\u001b[38;5;241;43m.\u001b[39;49m\u001b[43mfinish_update\u001b[49m\u001b[43m(\u001b[49m\u001b[43msgd\u001b[49m\u001b[43m)\u001b[49m\n\u001b[1;32m   1202\u001b[0m \u001b[38;5;28;01mif\u001b[39;00m name \u001b[38;5;129;01min\u001b[39;00m annotates:\n\u001b[1;32m   1203\u001b[0m     \u001b[38;5;28;01mfor\u001b[39;00m doc, eg \u001b[38;5;129;01min\u001b[39;00m \u001b[38;5;28mzip\u001b[39m(\n\u001b[1;32m   1204\u001b[0m         _pipe(\n\u001b[1;32m   1205\u001b[0m             (eg\u001b[38;5;241m.\u001b[39mpredicted \u001b[38;5;28;01mfor\u001b[39;00m eg \u001b[38;5;129;01min\u001b[39;00m examples),\n\u001b[0;32m   (...)\u001b[0m\n\u001b[1;32m   1211\u001b[0m         examples,\n\u001b[1;32m   1212\u001b[0m     ):\n",
      "File \u001b[0;32m/usr/local/lib/python3.10/dist-packages/spacy/pipeline/trainable_pipe.pyx:252\u001b[0m, in \u001b[0;36mspacy.pipeline.trainable_pipe.TrainablePipe.finish_update\u001b[0;34m()\u001b[0m\n",
      "File \u001b[0;32m/usr/local/lib/python3.10/dist-packages/thinc/model.py:346\u001b[0m, in \u001b[0;36mModel.finish_update\u001b[0;34m(self, optimizer)\u001b[0m\n\u001b[1;32m    344\u001b[0m \u001b[38;5;28;01mfor\u001b[39;00m name \u001b[38;5;129;01min\u001b[39;00m node\u001b[38;5;241m.\u001b[39mparam_names:\n\u001b[1;32m    345\u001b[0m     \u001b[38;5;28;01mif\u001b[39;00m node\u001b[38;5;241m.\u001b[39mhas_grad(name):\n\u001b[0;32m--> 346\u001b[0m         param, grad \u001b[38;5;241m=\u001b[39m \u001b[43moptimizer\u001b[49m\u001b[43m(\u001b[49m\n\u001b[1;32m    347\u001b[0m \u001b[43m            \u001b[49m\u001b[43m(\u001b[49m\u001b[43mnode\u001b[49m\u001b[38;5;241;43m.\u001b[39;49m\u001b[43mid\u001b[49m\u001b[43m,\u001b[49m\u001b[43m \u001b[49m\u001b[43mname\u001b[49m\u001b[43m)\u001b[49m\u001b[43m,\u001b[49m\u001b[43m \u001b[49m\u001b[43mnode\u001b[49m\u001b[38;5;241;43m.\u001b[39;49m\u001b[43mget_param\u001b[49m\u001b[43m(\u001b[49m\u001b[43mname\u001b[49m\u001b[43m)\u001b[49m\u001b[43m,\u001b[49m\u001b[43m \u001b[49m\u001b[43mnode\u001b[49m\u001b[38;5;241;43m.\u001b[39;49m\u001b[43mget_grad\u001b[49m\u001b[43m(\u001b[49m\u001b[43mname\u001b[49m\u001b[43m)\u001b[49m\n\u001b[1;32m    348\u001b[0m \u001b[43m        \u001b[49m\u001b[43m)\u001b[49m\n\u001b[1;32m    349\u001b[0m         node\u001b[38;5;241m.\u001b[39mset_param(name, param)\n",
      "File \u001b[0;32m/usr/local/lib/python3.10/dist-packages/thinc/optimizers.py:234\u001b[0m, in \u001b[0;36mOptimizer.__call__\u001b[0;34m(self, key, weights, gradient, lr_scale)\u001b[0m\n\u001b[1;32m    230\u001b[0m     weights, gradient \u001b[38;5;241m=\u001b[39m \u001b[38;5;28mself\u001b[39m\u001b[38;5;241m.\u001b[39m_radam(\n\u001b[1;32m    231\u001b[0m         ops, weights, gradient, lr_scale, key, nr_upd\n\u001b[1;32m    232\u001b[0m     )\n\u001b[1;32m    233\u001b[0m \u001b[38;5;28;01melif\u001b[39;00m \u001b[38;5;28mself\u001b[39m\u001b[38;5;241m.\u001b[39mb1 \u001b[38;5;241m>\u001b[39m \u001b[38;5;241m0.0\u001b[39m \u001b[38;5;129;01mand\u001b[39;00m \u001b[38;5;28mself\u001b[39m\u001b[38;5;241m.\u001b[39mb2 \u001b[38;5;241m>\u001b[39m \u001b[38;5;241m0.0\u001b[39m:\n\u001b[0;32m--> 234\u001b[0m     weights, gradient \u001b[38;5;241m=\u001b[39m \u001b[38;5;28;43mself\u001b[39;49m\u001b[38;5;241;43m.\u001b[39;49m\u001b[43m_adam\u001b[49m\u001b[43m(\u001b[49m\n\u001b[1;32m    235\u001b[0m \u001b[43m        \u001b[49m\u001b[43mops\u001b[49m\u001b[43m,\u001b[49m\u001b[43m \u001b[49m\u001b[43mweights\u001b[49m\u001b[43m,\u001b[49m\u001b[43m \u001b[49m\u001b[43mgradient\u001b[49m\u001b[43m,\u001b[49m\u001b[43m \u001b[49m\u001b[43mlr_scale\u001b[49m\u001b[43m,\u001b[49m\u001b[43m \u001b[49m\u001b[43mkey\u001b[49m\u001b[43m,\u001b[49m\u001b[43m \u001b[49m\u001b[43mnr_upd\u001b[49m\n\u001b[1;32m    236\u001b[0m \u001b[43m    \u001b[49m\u001b[43m)\u001b[49m\n\u001b[1;32m    237\u001b[0m \u001b[38;5;28;01melif\u001b[39;00m \u001b[38;5;28mself\u001b[39m\u001b[38;5;241m.\u001b[39mb2 \u001b[38;5;241m>\u001b[39m \u001b[38;5;241m0.0\u001b[39m:  \u001b[38;5;66;03m# pragma: no cover\u001b[39;00m\n\u001b[1;32m    238\u001b[0m     \u001b[38;5;28;01mraise\u001b[39;00m \u001b[38;5;167;01mNotImplementedError\u001b[39;00m  \u001b[38;5;66;03m# TODO: error message\u001b[39;00m\n",
      "File \u001b[0;32m/usr/local/lib/python3.10/dist-packages/thinc/optimizers.py:344\u001b[0m, in \u001b[0;36mOptimizer._adam\u001b[0;34m(self, ops, weights, gradient, lr_scale, key, nr_upd)\u001b[0m\n\u001b[1;32m    342\u001b[0m eps \u001b[38;5;241m=\u001b[39m \u001b[38;5;28mself\u001b[39m\u001b[38;5;241m.\u001b[39meps\n\u001b[1;32m    343\u001b[0m \u001b[38;5;66;03m# needs to be 1D going into the adam function\u001b[39;00m\n\u001b[0;32m--> 344\u001b[0m weights_1D, gradient_1D, mom1, mom2 \u001b[38;5;241m=\u001b[39m \u001b[43mops\u001b[49m\u001b[38;5;241;43m.\u001b[39;49m\u001b[43madam\u001b[49m\u001b[43m(\u001b[49m\n\u001b[1;32m    345\u001b[0m \u001b[43m    \u001b[49m\u001b[43mweights_1D\u001b[49m\u001b[43m,\u001b[49m\u001b[43m \u001b[49m\u001b[43mgradient_1D\u001b[49m\u001b[43m,\u001b[49m\u001b[43m \u001b[49m\u001b[43mmom1\u001b[49m\u001b[43m,\u001b[49m\u001b[43m \u001b[49m\u001b[43mmom2\u001b[49m\u001b[43m,\u001b[49m\u001b[43m \u001b[49m\u001b[43mb1\u001b[49m\u001b[43m,\u001b[49m\u001b[43m \u001b[49m\u001b[43mb2\u001b[49m\u001b[43m,\u001b[49m\u001b[43m \u001b[49m\u001b[43meps\u001b[49m\u001b[43m,\u001b[49m\u001b[43m \u001b[49m\u001b[43mlr\u001b[49m\u001b[43m \u001b[49m\u001b[38;5;241;43m*\u001b[39;49m\u001b[43m \u001b[49m\u001b[43mlr_scale\u001b[49m\n\u001b[1;32m    346\u001b[0m \u001b[43m\u001b[49m\u001b[43m)\u001b[49m\n\u001b[1;32m    347\u001b[0m \u001b[38;5;28mself\u001b[39m\u001b[38;5;241m.\u001b[39mmom1[key] \u001b[38;5;241m=\u001b[39m mom1\n\u001b[1;32m    348\u001b[0m \u001b[38;5;28mself\u001b[39m\u001b[38;5;241m.\u001b[39mmom2[key] \u001b[38;5;241m=\u001b[39m mom2\n",
      "\u001b[0;31mKeyboardInterrupt\u001b[0m: "
     ]
    }
   ],
   "source": [
    "# Code adapted from Chapter 8 of Mastering spaCy\n",
    "# I made very few changes except to use en_core_web_sm instead of en_core_web_md\n",
    "\n",
    "import spacy\n",
    "import random\n",
    "from spacy.training import Example \n",
    "from spacy.pipeline.textcat_multilabel import DEFAULT_MULTI_TEXTCAT_MODEL \n",
    "\n",
    "nlp = spacy.load(\"en_core_web_sm\") \n",
    "\n",
    "config = { \n",
    "   \"threshold\": 0.5, \n",
    "   \"model\": DEFAULT_MULTI_TEXTCAT_MODEL \n",
    "} \n",
    "\n",
    "textcat = nlp.add_pipe(\"textcat\", config=config) \n",
    "\n",
    "train_examples = []\n",
    "\n",
    "for index, row in df.iterrows():\n",
    "    text = str(row[\"text_\"]) # FIXME: why there are floats in the text??\n",
    "    l = row[\"label\"]\n",
    "    label = {\"spam\": True, \"ham\": False} if l == 1 else {\"ham\": True, \"spam\": False}\n",
    "    train_examples.append(Example.from_dict(nlp.make_doc(text), {\"cats\": label}))\n",
    "\n",
    "\n",
    "textcat.add_label(\"spam\")\n",
    "textcat.add_label(\"ham\")\n",
    "textcat.initialize(lambda: train_examples, nlp=nlp)\n",
    "\n",
    "epochs = 2\n",
    "with nlp.select_pipes(enable=\"textcat\"): \n",
    "  optimizer = nlp.resume_training() \n",
    "  for i in range(epochs): \n",
    "    random.shuffle(train_examples) \n",
    "    for example in train_examples: \n",
    "      nlp.update([example], sgd=optimizer) \n"
   ]
  },
  {
   "cell_type": "code",
   "execution_count": 28,
   "id": "b18f7f36",
   "metadata": {},
   "outputs": [
    {
     "data": {
      "text/plain": [
       "{'spam': 0.025030093267560005, 'ham': 0.9746408462524414}"
      ]
     },
     "execution_count": 28,
     "metadata": {},
     "output_type": "execute_result"
    }
   ],
   "source": [
    "testdoc = nlp(df.loc[40427, \"text_\"])\n",
    "testdoc.cats\n"
   ]
  },
  {
   "cell_type": "code",
   "execution_count": 21,
   "id": "efcc725b",
   "metadata": {},
   "outputs": [
    {
     "data": {
      "text/plain": [
       "{'spam': 0.16383831202983856, 'ham': 0.8371251225471497}"
      ]
     },
     "execution_count": 21,
     "metadata": {},
     "output_type": "execute_result"
    }
   ],
   "source": [
    "testdoc = nlp(\"The author is a woman of character and intelligence.\")\n",
    "testdoc.cats\n"
   ]
  },
  {
   "cell_type": "code",
   "execution_count": null,
   "id": "80741e6f",
   "metadata": {},
   "outputs": [],
   "source": []
  },
  {
   "cell_type": "code",
   "execution_count": null,
   "id": "8ec8b740",
   "metadata": {},
   "outputs": [],
   "source": [
    "# See https://github.com/PacktPublishing/Mastering-spaCy/blob/main/Chapter08/Keras_train.ipynb\n",
    "# for an example of spaCy with Keras"
   ]
  },
  {
   "cell_type": "code",
   "execution_count": null,
   "id": "d11f7f87",
   "metadata": {},
   "outputs": [],
   "source": []
  },
  {
   "cell_type": "markdown",
   "id": "1dfd997d",
   "metadata": {},
   "source": [
    "Revised project question: Is it possible to build a classifier that distinguishes between real and fake reviews using only a very restricted vocabulary of, say, the 1000 most frequent words?"
   ]
  },
  {
   "cell_type": "code",
   "execution_count": null,
   "id": "afdddfba",
   "metadata": {},
   "outputs": [],
   "source": []
  },
  {
   "cell_type": "code",
   "execution_count": null,
   "id": "97e287e0",
   "metadata": {},
   "outputs": [],
   "source": []
  },
  {
   "cell_type": "code",
   "execution_count": null,
   "id": "a28af455",
   "metadata": {},
   "outputs": [],
   "source": []
  },
  {
   "cell_type": "code",
   "execution_count": null,
   "id": "59eb88f4",
   "metadata": {},
   "outputs": [],
   "source": []
  },
  {
   "cell_type": "code",
   "execution_count": null,
   "id": "bff2f104",
   "metadata": {},
   "outputs": [],
   "source": []
  },
  {
   "cell_type": "code",
   "execution_count": null,
   "id": "2088320c",
   "metadata": {},
   "outputs": [],
   "source": []
  }
 ],
 "metadata": {
  "kernelspec": {
   "display_name": "Python 3 (ipykernel)",
   "language": "python",
   "name": "python3"
  },
  "language_info": {
   "codemirror_mode": {
    "name": "ipython",
    "version": 3
   },
   "file_extension": ".py",
   "mimetype": "text/x-python",
   "name": "python",
   "nbconvert_exporter": "python",
   "pygments_lexer": "ipython3",
   "version": "3.10.12"
  }
 },
 "nbformat": 4,
 "nbformat_minor": 5
}
